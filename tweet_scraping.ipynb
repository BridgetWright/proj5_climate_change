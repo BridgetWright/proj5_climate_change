{
 "cells": [
  {
   "cell_type": "code",
   "execution_count": 1,
   "metadata": {
    "collapsed": true
   },
   "outputs": [],
   "source": [
    "import tweepy, cnfg, sys, os, logging, json"
   ]
  },
  {
   "cell_type": "code",
   "execution_count": 2,
   "metadata": {
    "collapsed": false
   },
   "outputs": [],
   "source": [
    "logging.basicConfig(filename='twitter_error_log.log',filemode='w', level=logging.ERROR)"
   ]
  },
  {
   "cell_type": "code",
   "execution_count": 3,
   "metadata": {
    "collapsed": true
   },
   "outputs": [],
   "source": [
    "# with open('twitter_error_log.log', 'w'):\n",
    "#     pass"
   ]
  },
  {
   "cell_type": "code",
   "execution_count": 3,
   "metadata": {
    "collapsed": false
   },
   "outputs": [],
   "source": [
    "config = cnfg.load(\".twitter_config\")\n",
    "consumer_key = config['consumer_key']\n",
    "consumer_secret = config['consumer_secret']"
   ]
  },
  {
   "cell_type": "code",
   "execution_count": 4,
   "metadata": {
    "collapsed": true
   },
   "outputs": [],
   "source": [
    "auth = tweepy.AppAuthHandler(consumer_key, consumer_secret)\n",
    " \n",
    "api = tweepy.API(auth, wait_on_rate_limit=True, wait_on_rate_limit_notify=True,\n",
    "                 parser=tweepy.parsers.JSONParser()\n",
    "                )\n",
    " \n",
    "if (not api):\n",
    "    print (\"Can't Authenticate\")\n",
    "    sys.exit(-1)"
   ]
  },
  {
   "cell_type": "code",
   "execution_count": 5,
   "metadata": {
    "collapsed": true
   },
   "outputs": [],
   "source": [
    "# Original version searched for 'agw', not '#agw', so I got some bad matches that I later removed.\n",
    "climate_search = ('globalwarming OR (global AND warming) OR #climate OR (climate AND (science OR scientist OR scientists OR alarmist OR alarmists OR change OR realist OR realists OR denial OR denier OR deniers)) OR climatechange OR climaterealists OR #agw')"
   ]
  },
  {
   "cell_type": "code",
   "execution_count": 7,
   "metadata": {
    "collapsed": true
   },
   "outputs": [],
   "source": [
    "searchQuery = climate_search"
   ]
  },
  {
   "cell_type": "code",
   "execution_count": 8,
   "metadata": {
    "collapsed": false
   },
   "outputs": [],
   "source": [
    "maxTweets = 200 # Some arbitrary large number\n",
    "tweetsPerQry = 100  # this is the max the API permits\n",
    "\n",
    "# If results from a specific ID onwards are reqd, set since_id to that ID.\n",
    "# else default to no lower limit, go as far back as API allows\n",
    "sinceId = None\n",
    "\n",
    "# If results only below a specific ID are reqd, set max_id to that ID.\n",
    "# else default to no upper limit, start from the most recent tweet matching the search query.\n",
    "max_id = -1L\n",
    "\n",
    "tweetCount = 0\n",
    "tweetFiles = 0\n",
    "msg =  \"Downloading max {0} tweets\".format(maxTweets)\n",
    "logging.error(msg)\n",
    "tweets = []\n",
    "while 4000*tweetFiles + tweetCount < maxTweets:\n",
    "    try:\n",
    "        if (max_id <= 0):\n",
    "            if (not sinceId):\n",
    "                new_tweets = api.search(q=searchQuery, count=tweetsPerQry)\n",
    "            else:\n",
    "                new_tweets = api.search(q=searchQuery, count=tweetsPerQry,\n",
    "                                        since_id=sinceId)\n",
    "        else:\n",
    "            if (not sinceId):\n",
    "                new_tweets = api.search(q=searchQuery, count=tweetsPerQry,\n",
    "                                        max_id=str(max_id - 1))\n",
    "            else:\n",
    "                new_tweets = api.search(q=searchQuery, count=tweetsPerQry,\n",
    "                                        max_id=str(max_id - 1),\n",
    "                                        since_id=sinceId)\n",
    "                \n",
    "        new_tweets = new_tweets['statuses']\n",
    "        if len(new_tweets) == 0:\n",
    "            msg = 'No tweets found'\n",
    "            logging.error(msg)\n",
    "            break\n",
    "        \n",
    "        tweets.extend(new_tweets)\n",
    "        tweetCount += len(new_tweets)\n",
    "        msg = \"Downloaded {0} tweets\".format(tweetCount + tweetFiles*4000)\n",
    "        logging.error(msg)\n",
    "        max_id = new_tweets[-1]['id']\n",
    "        \n",
    "        if tweetCount > 4000:\n",
    "            with open('tweets'+str(tweetFiles)+'.json', 'wb') as outfile:  \n",
    "                json.dump(tweets, outfile)\n",
    "            msg = \"JSON file saved\"\n",
    "            logging.error(msg)\n",
    "            tweetFiles += 1\n",
    "            tweetCount = 0\n",
    "            del tweets[:]\n",
    "                \n",
    "    except tweepy.TweepError as e:\n",
    "        msg = 'Query failed when max_id equaled {0}: {1}'.format(max_id, e)\n",
    "        logging.error(msg)\n",
    "\n",
    "if tweetCount > 0:\n",
    "    with open('tweets'+str(tweetFiles)+'.json', 'wb') as outfile:  \n",
    "        json.dump(tweets, outfile)\n",
    "    msg = \"JSON file saved\"\n",
    "    logging.error(msg)\n",
    "    tweetFiles += 1\n",
    "    tweetCount = 0"
   ]
  },
  {
   "cell_type": "code",
   "execution_count": 46,
   "metadata": {
    "collapsed": false
   },
   "outputs": [],
   "source": [
    "# with open('tweets1.pkl', 'rb') as picklefile:\n",
    "#     test_tweets = pickle.load(picklefile)"
   ]
  },
  {
   "cell_type": "code",
   "execution_count": 64,
   "metadata": {
    "collapsed": false
   },
   "outputs": [],
   "source": [
    "#test_tweets = api.search(q=searchQuery, count=tweetsPerQry)"
   ]
  },
  {
   "cell_type": "code",
   "execution_count": 9,
   "metadata": {
    "collapsed": false
   },
   "outputs": [
    {
     "data": {
      "text/plain": [
       "200"
      ]
     },
     "execution_count": 9,
     "metadata": {},
     "output_type": "execute_result"
    }
   ],
   "source": [
    "len(tweets)"
   ]
  },
  {
   "cell_type": "code",
   "execution_count": 20,
   "metadata": {
    "collapsed": true
   },
   "outputs": [],
   "source": [
    "import requests\n",
    "from application_only_auth import Client\n",
    "client = Client(consumer_key, consumer_secret)"
   ]
  },
  {
   "cell_type": "code",
   "execution_count": 79,
   "metadata": {
    "collapsed": false
   },
   "outputs": [],
   "source": [
    "response = client.request(\n",
    "    \"https://api.twitter.com/1.1/application/rate_limit_status.json?resources=help,users,search,statuses\")"
   ]
  },
  {
   "cell_type": "code",
   "execution_count": 80,
   "metadata": {
    "collapsed": false
   },
   "outputs": [
    {
     "data": {
      "text/plain": [
       "{u'rate_limit_context': {u'application': u'2bKlUYBcnpuQwlTjZvxjbiPjF'},\n",
       " u'resources': {u'help': {u'/help/configuration': {u'limit': 15,\n",
       "    u'remaining': 15,\n",
       "    u'reset': 1489167411},\n",
       "   u'/help/languages': {u'limit': 15, u'remaining': 15, u'reset': 1489167411},\n",
       "   u'/help/privacy': {u'limit': 15, u'remaining': 15, u'reset': 1489167411},\n",
       "   u'/help/settings': {u'limit': 15, u'remaining': 15, u'reset': 1489167411},\n",
       "   u'/help/tos': {u'limit': 15, u'remaining': 15, u'reset': 1489167411}},\n",
       "  u'search': {u'/search/tweets': {u'limit': 450,\n",
       "    u'remaining': 450,\n",
       "    u'reset': 1489167411}},\n",
       "  u'statuses': {u'/statuses/lookup': {u'limit': 300,\n",
       "    u'remaining': 300,\n",
       "    u'reset': 1489167411},\n",
       "   u'/statuses/oembed': {u'limit': 180,\n",
       "    u'remaining': 180,\n",
       "    u'reset': 1489167411},\n",
       "   u'/statuses/retweeters/ids': {u'limit': 300,\n",
       "    u'remaining': 300,\n",
       "    u'reset': 1489167411},\n",
       "   u'/statuses/retweets/:id': {u'limit': 300,\n",
       "    u'remaining': 300,\n",
       "    u'reset': 1489167411},\n",
       "   u'/statuses/show/:id': {u'limit': 900,\n",
       "    u'remaining': 900,\n",
       "    u'reset': 1489167411},\n",
       "   u'/statuses/user_timeline': {u'limit': 1500,\n",
       "    u'remaining': 1500,\n",
       "    u'reset': 1489167411}},\n",
       "  u'users': {u'/users/lookup': {u'limit': 300,\n",
       "    u'remaining': 300,\n",
       "    u'reset': 1489167411},\n",
       "   u'/users/profile_banner': {u'limit': 180,\n",
       "    u'remaining': 180,\n",
       "    u'reset': 1489167411},\n",
       "   u'/users/reverse_lookup': {u'limit': 15,\n",
       "    u'remaining': 15,\n",
       "    u'reset': 1489167411},\n",
       "   u'/users/show/:id': {u'limit': 900,\n",
       "    u'remaining': 900,\n",
       "    u'reset': 1489167411},\n",
       "   u'/users/suggestions': {u'limit': 15,\n",
       "    u'remaining': 15,\n",
       "    u'reset': 1489167411},\n",
       "   u'/users/suggestions/:slug': {u'limit': 15,\n",
       "    u'remaining': 15,\n",
       "    u'reset': 1489167411},\n",
       "   u'/users/suggestions/:slug/members': {u'limit': 15,\n",
       "    u'remaining': 15,\n",
       "    u'reset': 1489167411}}}}"
      ]
     },
     "execution_count": 80,
     "metadata": {},
     "output_type": "execute_result"
    }
   ],
   "source": [
    "response"
   ]
  },
  {
   "cell_type": "code",
   "execution_count": 44,
   "metadata": {
    "collapsed": true
   },
   "outputs": [],
   "source": [
    "# with open('tweets1.json') as json_file:  \n",
    "#     test = json.load(json_file)"
   ]
  },
  {
   "cell_type": "code",
   "execution_count": null,
   "metadata": {
    "collapsed": true
   },
   "outputs": [],
   "source": []
  }
 ],
 "metadata": {
  "anaconda-cloud": {},
  "kernelspec": {
   "display_name": "Python [conda root]",
   "language": "python",
   "name": "conda-root-py"
  },
  "language_info": {
   "codemirror_mode": {
    "name": "ipython",
    "version": 2
   },
   "file_extension": ".py",
   "mimetype": "text/x-python",
   "name": "python",
   "nbconvert_exporter": "python",
   "pygments_lexer": "ipython2",
   "version": "2.7.12"
  }
 },
 "nbformat": 4,
 "nbformat_minor": 1
}
