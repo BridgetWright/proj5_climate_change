{
 "cells": [
  {
   "cell_type": "code",
   "execution_count": 1,
   "metadata": {
    "collapsed": true
   },
   "outputs": [],
   "source": [
    "import tweepy, cnfg, sys, os, logging, json"
   ]
  },
  {
   "cell_type": "markdown",
   "metadata": {},
   "source": [
    "## Set up Twitter API pull, and enable logging of progress"
   ]
  },
  {
   "cell_type": "code",
   "execution_count": 2,
   "metadata": {
    "collapsed": false
   },
   "outputs": [],
   "source": [
    "logging.basicConfig(filename='twitter_error_log.log',filemode='w', level=logging.ERROR)"
   ]
  },
  {
   "cell_type": "code",
   "execution_count": 3,
   "metadata": {
    "collapsed": false
   },
   "outputs": [],
   "source": [
    "config = cnfg.load(\".twitter_config\")\n",
    "consumer_key = config['consumer_key']\n",
    "consumer_secret = config['consumer_secret']"
   ]
  },
  {
   "cell_type": "code",
   "execution_count": 4,
   "metadata": {
    "collapsed": true
   },
   "outputs": [],
   "source": [
    "auth = tweepy.AppAuthHandler(consumer_key, consumer_secret)\n",
    " \n",
    "api = tweepy.API(auth, wait_on_rate_limit=True, wait_on_rate_limit_notify=True,\n",
    "                 parser=tweepy.parsers.JSONParser()\n",
    "                )\n",
    " \n",
    "if (not api):\n",
    "    print (\"Can't Authenticate\")\n",
    "    sys.exit(-1)"
   ]
  },
  {
   "cell_type": "code",
   "execution_count": 5,
   "metadata": {
    "collapsed": true
   },
   "outputs": [],
   "source": [
    "# Twitter API search terms\n",
    "climate_search = ('globalwarming OR (global AND warming) OR #climate OR (climate AND (science OR scientist OR scientists OR alarmist OR alarmists OR change OR realist OR realists OR denial OR denier OR deniers)) OR climatechange OR climaterealists OR #agw')\n",
    "searchQuery = climate_search"
   ]
  },
  {
   "cell_type": "markdown",
   "metadata": {},
   "source": [
    "## Download as many search-relevant tweets from the API as possible, while respecting the rate limit.\n",
    "This code is largely taken from https://www.karambelkar.info/2015/01/how-to-use-twitters-search-rest-api-most-effectively./  \n",
    "I tweaked it to save json files every 4000 tweets, and to use logging rather than printing."
   ]
  },
  {
   "cell_type": "code",
   "execution_count": 7,
   "metadata": {
    "collapsed": false
   },
   "outputs": [],
   "source": [
    "maxTweets = 2000000000 # Some arbitrary large number\n",
    "tweetsPerQry = 100  # this is the max the API permits\n",
    "\n",
    "# If results from a specific ID onwards are reqd, set since_id to that ID.\n",
    "# else default to no lower limit, go as far back as API allows\n",
    "sinceId = None\n",
    "\n",
    "# If results only below a specific ID are reqd, set max_id to that ID.\n",
    "# else default to no upper limit, start from the most recent tweet matching the search query.\n",
    "max_id = -1L\n",
    "\n",
    "tweetCount = 0\n",
    "tweetFiles = 0\n",
    "msg =  \"Downloading max {0} tweets\".format(maxTweets)\n",
    "logging.error(msg)\n",
    "tweets = []\n",
    "while 4000*tweetFiles + tweetCount < maxTweets:\n",
    "    try:\n",
    "        if (max_id <= 0):\n",
    "            if (not sinceId):\n",
    "                new_tweets = api.search(q=searchQuery, count=tweetsPerQry)\n",
    "            else:\n",
    "                new_tweets = api.search(q=searchQuery, count=tweetsPerQry,\n",
    "                                        since_id=sinceId)\n",
    "        else:\n",
    "            if (not sinceId):\n",
    "                new_tweets = api.search(q=searchQuery, count=tweetsPerQry,\n",
    "                                        max_id=str(max_id - 1))\n",
    "            else:\n",
    "                new_tweets = api.search(q=searchQuery, count=tweetsPerQry,\n",
    "                                        max_id=str(max_id - 1),\n",
    "                                        since_id=sinceId)\n",
    "                \n",
    "        new_tweets = new_tweets['statuses']\n",
    "        if len(new_tweets) == 0:\n",
    "            msg = 'No tweets found'\n",
    "            logging.error(msg)\n",
    "            break\n",
    "        \n",
    "        tweets.extend(new_tweets)\n",
    "        tweetCount += len(new_tweets)\n",
    "        msg = \"Downloaded {0} tweets\".format(tweetCount + tweetFiles*4000)\n",
    "        logging.error(msg)\n",
    "        max_id = new_tweets[-1]['id']\n",
    "        \n",
    "        if tweetCount > 4000:\n",
    "            with open('tweets'+str(tweetFiles)+'.json', 'wb') as outfile:  \n",
    "                json.dump(tweets, outfile)\n",
    "            msg = \"JSON file saved\"\n",
    "            logging.error(msg)\n",
    "            tweetFiles += 1\n",
    "            tweetCount = 0\n",
    "            del tweets[:]\n",
    "                \n",
    "    except tweepy.TweepError as e:\n",
    "        msg = 'Query failed when max_id equaled {0}: {1}'.format(max_id, e)\n",
    "        logging.error(msg)\n",
    "\n",
    "if tweetCount > 0:\n",
    "    with open('tweets'+str(tweetFiles)+'.json', 'wb') as outfile:  \n",
    "        json.dump(tweets, outfile)\n",
    "    msg = \"JSON file saved\"\n",
    "    logging.error(msg)\n",
    "    tweetFiles += 1\n",
    "    tweetCount = 0"
   ]
  },
  {
   "cell_type": "markdown",
   "metadata": {},
   "source": [
    "## Open one file downloaded with the above code and check the result"
   ]
  },
  {
   "cell_type": "code",
   "execution_count": 8,
   "metadata": {
    "collapsed": false
   },
   "outputs": [],
   "source": [
    "with open('tweets0.json') as json_file:  \n",
    "    test = json.load(json_file)"
   ]
  },
  {
   "cell_type": "code",
   "execution_count": 15,
   "metadata": {
    "collapsed": false
   },
   "outputs": [
    {
     "data": {
      "text/plain": [
       "200"
      ]
     },
     "execution_count": 15,
     "metadata": {},
     "output_type": "execute_result"
    }
   ],
   "source": [
    "len(test)"
   ]
  },
  {
   "cell_type": "code",
   "execution_count": 17,
   "metadata": {
    "collapsed": false
   },
   "outputs": [
    {
     "data": {
      "text/plain": [
       "{u'contributors': None,\n",
       " u'coordinates': None,\n",
       " u'created_at': u'Mon Apr 03 19:42:19 +0000 2017',\n",
       " u'entities': {u'hashtags': [],\n",
       "  u'media': [{u'display_url': u'pic.twitter.com/BA8OAE8Gy8',\n",
       "    u'expanded_url': u'https://twitter.com/postgreen/status/848983563664011264/photo/1',\n",
       "    u'id': 848983535767748608,\n",
       "    u'id_str': u'848983535767748608',\n",
       "    u'indices': [114, 137],\n",
       "    u'media_url': u'http://pbs.twimg.com/tweet_video_thumb/C8gyBxWXgAAFsIf.jpg',\n",
       "    u'media_url_https': u'https://pbs.twimg.com/tweet_video_thumb/C8gyBxWXgAAFsIf.jpg',\n",
       "    u'sizes': {u'large': {u'h': 224, u'resize': u'fit', u'w': 400},\n",
       "     u'medium': {u'h': 224, u'resize': u'fit', u'w': 400},\n",
       "     u'small': {u'h': 190, u'resize': u'fit', u'w': 340},\n",
       "     u'thumb': {u'h': 150, u'resize': u'crop', u'w': 150}},\n",
       "    u'source_status_id': 848983563664011264,\n",
       "    u'source_status_id_str': u'848983563664011264',\n",
       "    u'source_user_id': 14493552,\n",
       "    u'source_user_id_str': u'14493552',\n",
       "    u'type': u'photo',\n",
       "    u'url': u'https://t.co/BA8OAE8Gy8'}],\n",
       "  u'symbols': [],\n",
       "  u'urls': [{u'display_url': u'wapo.st/2n4T8pG?tid=ss\\u2026',\n",
       "    u'expanded_url': u'http://wapo.st/2n4T8pG?tid=ss_tw',\n",
       "    u'indices': [90, 113],\n",
       "    u'url': u'https://t.co/kmiKMejHiw'}],\n",
       "  u'user_mentions': [{u'id': 14493552,\n",
       "    u'id_str': u'14493552',\n",
       "    u'indices': [3, 13],\n",
       "    u'name': u'Post Green',\n",
       "    u'screen_name': u'postgreen'}]},\n",
       " u'extended_entities': {u'media': [{u'display_url': u'pic.twitter.com/BA8OAE8Gy8',\n",
       "    u'expanded_url': u'https://twitter.com/postgreen/status/848983563664011264/photo/1',\n",
       "    u'id': 848983535767748608,\n",
       "    u'id_str': u'848983535767748608',\n",
       "    u'indices': [114, 137],\n",
       "    u'media_url': u'http://pbs.twimg.com/tweet_video_thumb/C8gyBxWXgAAFsIf.jpg',\n",
       "    u'media_url_https': u'https://pbs.twimg.com/tweet_video_thumb/C8gyBxWXgAAFsIf.jpg',\n",
       "    u'sizes': {u'large': {u'h': 224, u'resize': u'fit', u'w': 400},\n",
       "     u'medium': {u'h': 224, u'resize': u'fit', u'w': 400},\n",
       "     u'small': {u'h': 190, u'resize': u'fit', u'w': 340},\n",
       "     u'thumb': {u'h': 150, u'resize': u'crop', u'w': 150}},\n",
       "    u'source_status_id': 848983563664011264,\n",
       "    u'source_status_id_str': u'848983563664011264',\n",
       "    u'source_user_id': 14493552,\n",
       "    u'source_user_id_str': u'14493552',\n",
       "    u'type': u'animated_gif',\n",
       "    u'url': u'https://t.co/BA8OAE8Gy8',\n",
       "    u'video_info': {u'aspect_ratio': [25, 14],\n",
       "     u'variants': [{u'bitrate': 0,\n",
       "       u'content_type': u'video/mp4',\n",
       "       u'url': u'https://video.twimg.com/tweet_video/C8gyBxWXgAAFsIf.mp4'}]}}]},\n",
       " u'favorite_count': 0,\n",
       " u'favorited': False,\n",
       " u'geo': None,\n",
       " u'id': 848984026086080513,\n",
       " u'id_str': u'848984026086080513',\n",
       " u'in_reply_to_screen_name': None,\n",
       " u'in_reply_to_status_id': None,\n",
       " u'in_reply_to_status_id_str': None,\n",
       " u'in_reply_to_user_id': None,\n",
       " u'in_reply_to_user_id_str': None,\n",
       " u'is_quote_status': False,\n",
       " u'lang': u'en',\n",
       " u'metadata': {u'iso_language_code': u'en', u'result_type': u'recent'},\n",
       " u'place': None,\n",
       " u'possibly_sensitive': False,\n",
       " u'retweet_count': 6,\n",
       " u'retweeted': False,\n",
       " u'retweeted_status': {u'contributors': None,\n",
       "  u'coordinates': None,\n",
       "  u'created_at': u'Mon Apr 03 19:40:29 +0000 2017',\n",
       "  u'entities': {u'hashtags': [],\n",
       "   u'media': [{u'display_url': u'pic.twitter.com/BA8OAE8Gy8',\n",
       "     u'expanded_url': u'https://twitter.com/postgreen/status/848983563664011264/photo/1',\n",
       "     u'id': 848983535767748608,\n",
       "     u'id_str': u'848983535767748608',\n",
       "     u'indices': [99, 122],\n",
       "     u'media_url': u'http://pbs.twimg.com/tweet_video_thumb/C8gyBxWXgAAFsIf.jpg',\n",
       "     u'media_url_https': u'https://pbs.twimg.com/tweet_video_thumb/C8gyBxWXgAAFsIf.jpg',\n",
       "     u'sizes': {u'large': {u'h': 224, u'resize': u'fit', u'w': 400},\n",
       "      u'medium': {u'h': 224, u'resize': u'fit', u'w': 400},\n",
       "      u'small': {u'h': 190, u'resize': u'fit', u'w': 340},\n",
       "      u'thumb': {u'h': 150, u'resize': u'crop', u'w': 150}},\n",
       "     u'type': u'photo',\n",
       "     u'url': u'https://t.co/BA8OAE8Gy8'}],\n",
       "   u'symbols': [],\n",
       "   u'urls': [{u'display_url': u'wapo.st/2n4T8pG?tid=ss\\u2026',\n",
       "     u'expanded_url': u'http://wapo.st/2n4T8pG?tid=ss_tw',\n",
       "     u'indices': [75, 98],\n",
       "     u'url': u'https://t.co/kmiKMejHiw'}],\n",
       "   u'user_mentions': []},\n",
       "  u'extended_entities': {u'media': [{u'display_url': u'pic.twitter.com/BA8OAE8Gy8',\n",
       "     u'expanded_url': u'https://twitter.com/postgreen/status/848983563664011264/photo/1',\n",
       "     u'id': 848983535767748608,\n",
       "     u'id_str': u'848983535767748608',\n",
       "     u'indices': [99, 122],\n",
       "     u'media_url': u'http://pbs.twimg.com/tweet_video_thumb/C8gyBxWXgAAFsIf.jpg',\n",
       "     u'media_url_https': u'https://pbs.twimg.com/tweet_video_thumb/C8gyBxWXgAAFsIf.jpg',\n",
       "     u'sizes': {u'large': {u'h': 224, u'resize': u'fit', u'w': 400},\n",
       "      u'medium': {u'h': 224, u'resize': u'fit', u'w': 400},\n",
       "      u'small': {u'h': 190, u'resize': u'fit', u'w': 340},\n",
       "      u'thumb': {u'h': 150, u'resize': u'crop', u'w': 150}},\n",
       "     u'type': u'animated_gif',\n",
       "     u'url': u'https://t.co/BA8OAE8Gy8',\n",
       "     u'video_info': {u'aspect_ratio': [25, 14],\n",
       "      u'variants': [{u'bitrate': 0,\n",
       "        u'content_type': u'video/mp4',\n",
       "        u'url': u'https://video.twimg.com/tweet_video/C8gyBxWXgAAFsIf.mp4'}]}}]},\n",
       "  u'favorite_count': 0,\n",
       "  u'favorited': False,\n",
       "  u'geo': None,\n",
       "  u'id': 848983563664011264,\n",
       "  u'id_str': u'848983563664011264',\n",
       "  u'in_reply_to_screen_name': None,\n",
       "  u'in_reply_to_status_id': None,\n",
       "  u'in_reply_to_status_id_str': None,\n",
       "  u'in_reply_to_user_id': None,\n",
       "  u'in_reply_to_user_id_str': None,\n",
       "  u'is_quote_status': False,\n",
       "  u'lang': u'en',\n",
       "  u'metadata': {u'iso_language_code': u'en', u'result_type': u'recent'},\n",
       "  u'place': None,\n",
       "  u'possibly_sensitive': False,\n",
       "  u'retweet_count': 6,\n",
       "  u'retweeted': False,\n",
       "  u'source': u'<a href=\"https://about.twitter.com/products/tweetdeck\" rel=\"nofollow\">TweetDeck</a>',\n",
       "  u'text': u'These stunning timelapse photos may just convince you about climate change https://t.co/kmiKMejHiw https://t.co/BA8OAE8Gy8',\n",
       "  u'truncated': False,\n",
       "  u'user': {u'contributors_enabled': False,\n",
       "   u'created_at': u'Wed Apr 23 13:41:22 +0000 2008',\n",
       "   u'default_profile': False,\n",
       "   u'default_profile_image': False,\n",
       "   u'description': u\"The Washington Post's environment, climate change, and energy coverage. Tweets by @chriscmooney.\",\n",
       "   u'entities': {u'description': {u'urls': []},\n",
       "    u'url': {u'urls': [{u'display_url': u'washingtonpost.com/news/energy-en\\u2026',\n",
       "       u'expanded_url': u'http://www.washingtonpost.com/news/energy-environment/',\n",
       "       u'indices': [0, 22],\n",
       "       u'url': u'http://t.co/A9887j5XTu'}]}},\n",
       "   u'favourites_count': 43,\n",
       "   u'follow_request_sent': None,\n",
       "   u'followers_count': 19714,\n",
       "   u'following': None,\n",
       "   u'friends_count': 60,\n",
       "   u'geo_enabled': False,\n",
       "   u'has_extended_profile': False,\n",
       "   u'id': 14493552,\n",
       "   u'id_str': u'14493552',\n",
       "   u'is_translation_enabled': False,\n",
       "   u'is_translator': False,\n",
       "   u'lang': u'en',\n",
       "   u'listed_count': 1108,\n",
       "   u'location': u'Washington, D.C.',\n",
       "   u'name': u'Post Green',\n",
       "   u'notifications': None,\n",
       "   u'profile_background_color': u'4C7D57',\n",
       "   u'profile_background_image_url': u'http://pbs.twimg.com/profile_background_images/865175425/c1cb060655738378bd26a9dc88d866bd.jpeg',\n",
       "   u'profile_background_image_url_https': u'https://pbs.twimg.com/profile_background_images/865175425/c1cb060655738378bd26a9dc88d866bd.jpeg',\n",
       "   u'profile_background_tile': False,\n",
       "   u'profile_banner_url': u'https://pbs.twimg.com/profile_banners/14493552/1417022361',\n",
       "   u'profile_image_url': u'http://pbs.twimg.com/profile_images/753959967305203712/dtLuVnSo_normal.jpg',\n",
       "   u'profile_image_url_https': u'https://pbs.twimg.com/profile_images/753959967305203712/dtLuVnSo_normal.jpg',\n",
       "   u'profile_link_color': u'0000FF',\n",
       "   u'profile_sidebar_border_color': u'FFFFFF',\n",
       "   u'profile_sidebar_fill_color': u'E0FF92',\n",
       "   u'profile_text_color': u'000000',\n",
       "   u'profile_use_background_image': True,\n",
       "   u'protected': False,\n",
       "   u'screen_name': u'postgreen',\n",
       "   u'statuses_count': 8808,\n",
       "   u'time_zone': u'Eastern Time (US & Canada)',\n",
       "   u'translator_type': u'none',\n",
       "   u'url': u'http://t.co/A9887j5XTu',\n",
       "   u'utc_offset': -14400,\n",
       "   u'verified': False}},\n",
       " u'source': u'<a href=\"http://twitter.com\" rel=\"nofollow\">Twitter Web Client</a>',\n",
       " u'text': u'RT @postgreen: These stunning timelapse photos may just convince you about climate change https://t.co/kmiKMejHiw https://t.co/BA8OAE8Gy8',\n",
       " u'truncated': False,\n",
       " u'user': {u'contributors_enabled': False,\n",
       "  u'created_at': u'Fri Jul 31 09:29:37 +0000 2009',\n",
       "  u'default_profile': True,\n",
       "  u'default_profile_image': False,\n",
       "  u'description': u'Washington Post reporter. Keep reading.',\n",
       "  u'entities': {u'description': {u'urls': []},\n",
       "   u'url': {u'urls': [{u'display_url': u'washingtonpost.com',\n",
       "      u'expanded_url': u'http://www.washingtonpost.com',\n",
       "      u'indices': [0, 22],\n",
       "      u'url': u'http://t.co/cvY92oSOyu'}]}},\n",
       "  u'favourites_count': 5773,\n",
       "  u'follow_request_sent': None,\n",
       "  u'followers_count': 354337,\n",
       "  u'following': None,\n",
       "  u'friends_count': 3114,\n",
       "  u'geo_enabled': False,\n",
       "  u'has_extended_profile': False,\n",
       "  u'id': 61734492,\n",
       "  u'id_str': u'61734492',\n",
       "  u'is_translation_enabled': False,\n",
       "  u'is_translator': False,\n",
       "  u'lang': u'en',\n",
       "  u'listed_count': 5394,\n",
       "  u'location': u'Washington, DC',\n",
       "  u'name': u'David Fahrenthold',\n",
       "  u'notifications': None,\n",
       "  u'profile_background_color': u'C0DEED',\n",
       "  u'profile_background_image_url': u'http://abs.twimg.com/images/themes/theme1/bg.png',\n",
       "  u'profile_background_image_url_https': u'https://abs.twimg.com/images/themes/theme1/bg.png',\n",
       "  u'profile_background_tile': False,\n",
       "  u'profile_banner_url': u'https://pbs.twimg.com/profile_banners/61734492/1478793649',\n",
       "  u'profile_image_url': u'http://pbs.twimg.com/profile_images/776115856585678848/P4s1nx_z_normal.jpg',\n",
       "  u'profile_image_url_https': u'https://pbs.twimg.com/profile_images/776115856585678848/P4s1nx_z_normal.jpg',\n",
       "  u'profile_link_color': u'1DA1F2',\n",
       "  u'profile_sidebar_border_color': u'C0DEED',\n",
       "  u'profile_sidebar_fill_color': u'DDEEF6',\n",
       "  u'profile_text_color': u'333333',\n",
       "  u'profile_use_background_image': True,\n",
       "  u'protected': False,\n",
       "  u'screen_name': u'Fahrenthold',\n",
       "  u'statuses_count': 21582,\n",
       "  u'time_zone': u'Eastern Time (US & Canada)',\n",
       "  u'translator_type': u'none',\n",
       "  u'url': u'http://t.co/cvY92oSOyu',\n",
       "  u'utc_offset': -14400,\n",
       "  u'verified': True}}"
      ]
     },
     "execution_count": 17,
     "metadata": {},
     "output_type": "execute_result"
    }
   ],
   "source": [
    "test[0]"
   ]
  },
  {
   "cell_type": "markdown",
   "metadata": {},
   "source": [
    "## I can run this periodically to check my rate limit usage"
   ]
  },
  {
   "cell_type": "code",
   "execution_count": 12,
   "metadata": {
    "collapsed": true
   },
   "outputs": [],
   "source": [
    "import requests\n",
    "from application_only_auth import Client\n",
    "client = Client(consumer_key, consumer_secret)"
   ]
  },
  {
   "cell_type": "code",
   "execution_count": 13,
   "metadata": {
    "collapsed": false
   },
   "outputs": [],
   "source": [
    "response = client.request(\n",
    "    \"https://api.twitter.com/1.1/application/rate_limit_status.json?resources=help,users,search,statuses\")"
   ]
  },
  {
   "cell_type": "code",
   "execution_count": 14,
   "metadata": {
    "collapsed": false
   },
   "outputs": [
    {
     "data": {
      "text/plain": [
       "{u'rate_limit_context': {u'application': u'2bKlUYBcnpuQwlTjZvxjbiPjF'},\n",
       " u'resources': {u'help': {u'/help/configuration': {u'limit': 15,\n",
       "    u'remaining': 15,\n",
       "    u'reset': 1491249531},\n",
       "   u'/help/languages': {u'limit': 15, u'remaining': 15, u'reset': 1491249531},\n",
       "   u'/help/privacy': {u'limit': 15, u'remaining': 15, u'reset': 1491249531},\n",
       "   u'/help/settings': {u'limit': 15, u'remaining': 15, u'reset': 1491249531},\n",
       "   u'/help/tos': {u'limit': 15, u'remaining': 15, u'reset': 1491249531}},\n",
       "  u'search': {u'/search/tweets': {u'limit': 450,\n",
       "    u'remaining': 448,\n",
       "    u'reset': 1491249455}},\n",
       "  u'statuses': {u'/statuses/lookup': {u'limit': 300,\n",
       "    u'remaining': 300,\n",
       "    u'reset': 1491249531},\n",
       "   u'/statuses/oembed': {u'limit': 180,\n",
       "    u'remaining': 180,\n",
       "    u'reset': 1491249531},\n",
       "   u'/statuses/retweeters/ids': {u'limit': 300,\n",
       "    u'remaining': 300,\n",
       "    u'reset': 1491249531},\n",
       "   u'/statuses/retweets/:id': {u'limit': 300,\n",
       "    u'remaining': 300,\n",
       "    u'reset': 1491249531},\n",
       "   u'/statuses/show/:id': {u'limit': 900,\n",
       "    u'remaining': 900,\n",
       "    u'reset': 1491249531},\n",
       "   u'/statuses/user_timeline': {u'limit': 1500,\n",
       "    u'remaining': 1500,\n",
       "    u'reset': 1491249531}},\n",
       "  u'users': {u'/users/lookup': {u'limit': 300,\n",
       "    u'remaining': 300,\n",
       "    u'reset': 1491249531},\n",
       "   u'/users/profile_banner': {u'limit': 180,\n",
       "    u'remaining': 180,\n",
       "    u'reset': 1491249531},\n",
       "   u'/users/reverse_lookup': {u'limit': 15,\n",
       "    u'remaining': 15,\n",
       "    u'reset': 1491249531},\n",
       "   u'/users/show/:id': {u'limit': 900,\n",
       "    u'remaining': 900,\n",
       "    u'reset': 1491249531},\n",
       "   u'/users/suggestions': {u'limit': 15,\n",
       "    u'remaining': 15,\n",
       "    u'reset': 1491249531},\n",
       "   u'/users/suggestions/:slug': {u'limit': 15,\n",
       "    u'remaining': 15,\n",
       "    u'reset': 1491249531},\n",
       "   u'/users/suggestions/:slug/members': {u'limit': 15,\n",
       "    u'remaining': 15,\n",
       "    u'reset': 1491249531}}}}"
      ]
     },
     "execution_count": 14,
     "metadata": {},
     "output_type": "execute_result"
    }
   ],
   "source": [
    "response"
   ]
  }
 ],
 "metadata": {
  "anaconda-cloud": {},
  "kernelspec": {
   "display_name": "Python [conda root]",
   "language": "python",
   "name": "conda-root-py"
  },
  "language_info": {
   "codemirror_mode": {
    "name": "ipython",
    "version": 2
   },
   "file_extension": ".py",
   "mimetype": "text/x-python",
   "name": "python",
   "nbconvert_exporter": "python",
   "pygments_lexer": "ipython2",
   "version": "2.7.12"
  }
 },
 "nbformat": 4,
 "nbformat_minor": 1
}
