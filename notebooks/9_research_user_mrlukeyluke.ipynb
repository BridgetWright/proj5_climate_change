{
 "cells": [
  {
   "cell_type": "code",
   "execution_count": 9,
   "metadata": {
    "collapsed": false
   },
   "outputs": [],
   "source": [
    "import pyspark, pickle\n",
    "from pyspark import SparkContext\n",
    "from pyspark.sql.functions import countDistinct, regexp_replace, monotonically_increasing_id, lit\n",
    "from pyspark.storagelevel import StorageLevel\n",
    "import pandas as pd\n",
    "import numpy as np\n",
    "\n",
    "import matplotlib.pyplot as plt\n",
    "\n",
    "%matplotlib inline"
   ]
  },
  {
   "cell_type": "code",
   "execution_count": 10,
   "metadata": {
    "collapsed": true
   },
   "outputs": [],
   "source": [
    "spark = pyspark.sql.SparkSession.builder.getOrCreate()\n",
    "sc = spark.sparkContext"
   ]
  },
  {
   "cell_type": "markdown",
   "metadata": {},
   "source": [
    "# Load tweet, pagerank, and community data. Join."
   ]
  },
  {
   "cell_type": "code",
   "execution_count": 3,
   "metadata": {
    "collapsed": false
   },
   "outputs": [
    {
     "data": {
      "text/plain": [
       "1185967"
      ]
     },
     "execution_count": 3,
     "metadata": {},
     "output_type": "execute_result"
    }
   ],
   "source": [
    "tweets = spark.read.parquet('tweets_all.parquet')\n",
    "tweets.persist(StorageLevel.MEMORY_AND_DISK);\n",
    "tweets.count()"
   ]
  },
  {
   "cell_type": "code",
   "execution_count": 4,
   "metadata": {
    "collapsed": false
   },
   "outputs": [
    {
     "data": {
      "text/plain": [
       "480277"
      ]
     },
     "execution_count": 4,
     "metadata": {},
     "output_type": "execute_result"
    }
   ],
   "source": [
    "coms = spark.read.parquet('communities.parquet')\n",
    "coms.persist(StorageLevel.MEMORY_AND_DISK)\n",
    "coms.count()"
   ]
  },
  {
   "cell_type": "code",
   "execution_count": 5,
   "metadata": {
    "collapsed": false
   },
   "outputs": [],
   "source": [
    "pr = spark.read.parquet('pageranks.parquet')\n",
    "pr.registerTempTable('pr')"
   ]
  },
  {
   "cell_type": "code",
   "execution_count": 6,
   "metadata": {
    "collapsed": true
   },
   "outputs": [],
   "source": [
    "tweets = tweets.join(coms, 'screen_name', 'inner')\n",
    "tweets.registerTempTable('tweets')\n",
    "coms.unpersist();"
   ]
  },
  {
   "cell_type": "code",
   "execution_count": 7,
   "metadata": {
    "collapsed": false
   },
   "outputs": [],
   "source": [
    "tweets = tweets.join(pr, on='screen_name', how='left')"
   ]
  },
  {
   "cell_type": "markdown",
   "metadata": {},
   "source": [
    "# See who MrLukeyLuke communicated with"
   ]
  },
  {
   "cell_type": "code",
   "execution_count": 22,
   "metadata": {
    "collapsed": false
   },
   "outputs": [
    {
     "data": {
      "text/plain": [
       "[Row(text=\"@AdrianHarrop Fellow conservatives (mainly US) concern me on climate change like sjws's do on evolutionary psychology.\", created_at='Mon Mar 06 22:20:06 +0000 2017'),\n",
       " Row(text='@ErikSolheim @Jack_P_95 Even if climate change is wrong, we ought to take action anyway. Rather be prepared and wrong than vice versa.', created_at='Tue Mar 14 15:46:42 +0000 2017'),\n",
       " Row(text=\"Bill Nye is a science educator, to be fair he's never claimed to be a scientist. I agree with Nye that anthropogenic global warming is real.\", created_at='Wed Mar 01 19:44:22 +0000 2017'),\n",
       " Row(text='@AdrianHarrop Climate change worries me. I would go for carbon trade, nuclear power and offer tax breaks for renewable energy.', created_at='Mon Mar 06 20:55:26 +0000 2017'),\n",
       " Row(text='@swinny198 I agree with that, judging by your profile I think stuff like climate change we might disagree on.', created_at='Fri Mar 10 22:18:27 +0000 2017'),\n",
       " Row(text=\"@AdrianHarrop I was barely taught climate change at school. Some vague stuff about it in Y9 and that's it.\", created_at='Mon Mar 06 20:56:28 +0000 2017'),\n",
       " Row(text='@AdrianHarrop Agreed, we need economic growth/free market so we have the resources to deal with climate change, but also regulation.', created_at='Mon Mar 06 23:42:05 +0000 2017'),\n",
       " Row(text='@JSlate__ \\nFree trade= globalist\\nFree movement= globalist\\nForeign intervention= globalist\\nClimate change= globalist\\nCase of paranoia', created_at='Tue Mar 14 17:02:53 +0000 2017')]"
      ]
     },
     "execution_count": 22,
     "metadata": {},
     "output_type": "execute_result"
    }
   ],
   "source": [
    "tweets.filter('screen_name = \"MrLukeyLuke\"').select('text', 'created_at').take(10)"
   ]
  },
  {
   "cell_type": "code",
   "execution_count": 12,
   "metadata": {
    "collapsed": false
   },
   "outputs": [
    {
     "name": "stdout",
     "output_type": "stream",
     "text": [
      "+------------+----------------+---------+--------+---------------------+\n",
      "| screen_name|            name|community|pagerank|retweeted_screen_name|\n",
      "+------------+----------------+---------+--------+---------------------+\n",
      "| ErikSolheim|    Erik Solheim|       10|    null|                 null|\n",
      "| ErikSolheim|    Erik Solheim|       10|    null|                 null|\n",
      "| ErikSolheim|    Erik Solheim|       10|    null|                 null|\n",
      "| ErikSolheim|    Erik Solheim|       10|    null|                 null|\n",
      "| ErikSolheim|    Erik Solheim|       10|    null|                 null|\n",
      "|   swinny198|           Sam S|        3|    null|          1markconway|\n",
      "|   swinny198|           Sam S|        3|    null|      ClimateRealists|\n",
      "| ErikSolheim|    Erik Solheim|       10|    null|                 null|\n",
      "| ErikSolheim|    Erik Solheim|       10|    null|                 null|\n",
      "| ErikSolheim|    Erik Solheim|       10|    null|                 null|\n",
      "| ErikSolheim|    Erik Solheim|       10|    null|                 null|\n",
      "|   swinny198|           Sam S|        3|    null|         WordSmithGuy|\n",
      "| ErikSolheim|    Erik Solheim|       10|    null|                 null|\n",
      "| ErikSolheim|    Erik Solheim|       10|    null|                 null|\n",
      "| ErikSolheim|    Erik Solheim|       10|    null|                 null|\n",
      "| ErikSolheim|    Erik Solheim|       10|    null|                 null|\n",
      "|    JSlate__|James Slate 🇺🇸|        3|    null|          theprospect|\n",
      "| ErikSolheim|    Erik Solheim|       10|    null|                 null|\n",
      "| ErikSolheim|    Erik Solheim|       10|    null|                 null|\n",
      "|AdrianHarrop| Adrian A Harrop|        3|    null|                 null|\n",
      "+------------+----------------+---------+--------+---------------------+\n",
      "\n"
     ]
    }
   ],
   "source": [
    "# Luke mostly communicated with other members of community 3, the climate change Deniers\n",
    "\n",
    "tweets.filter('screen_name in (\"ErikSolheim\", \"AdrianHarrop\", \"swinny198\", \"JSlate__\", \"Jack_P_95\")').\\\n",
    "    select('screen_name', 'name', 'community','pagerank', 'retweeted_screen_name').show()"
   ]
  },
  {
   "cell_type": "code",
   "execution_count": null,
   "metadata": {
    "collapsed": true
   },
   "outputs": [],
   "source": []
  }
 ],
 "metadata": {
  "anaconda-cloud": {},
  "kernelspec": {
   "display_name": "Python [conda env:datasci3]",
   "language": "python",
   "name": "conda-env-datasci3-py"
  },
  "language_info": {
   "codemirror_mode": {
    "name": "ipython",
    "version": 3
   },
   "file_extension": ".py",
   "mimetype": "text/x-python",
   "name": "python",
   "nbconvert_exporter": "python",
   "pygments_lexer": "ipython3",
   "version": "3.5.2"
  }
 },
 "nbformat": 4,
 "nbformat_minor": 2
}
