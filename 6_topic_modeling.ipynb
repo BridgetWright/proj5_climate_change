{
 "cells": [
  {
   "cell_type": "code",
   "execution_count": 1,
   "metadata": {
    "collapsed": false
   },
   "outputs": [
    {
     "name": "stderr",
     "output_type": "stream",
     "text": [
      "/home/ubuntu/conda/envs/datasci3/lib/python3.5/site-packages/PIL/Image.py:85: RuntimeWarning: The _imaging extension was built for another  version of Pillow or PIL\n",
      "  warnings.warn(str(v), RuntimeWarning)\n"
     ]
    }
   ],
   "source": [
    "import pyspark, pickle\n",
    "from pyspark import SparkContext\n",
    "from pyspark.sql.functions import countDistinct, regexp_replace, monotonically_increasing_id, lit\n",
    "from pyspark.storagelevel import StorageLevel\n",
    "import pandas as pd\n",
    "import numpy as np\n",
    "from pyspark.ml.feature import CountVectorizer, StopWordsRemover, RegexTokenizer\n",
    "from pyspark.ml.clustering import LDA, LocalLDAModel\n",
    "\n",
    "from nltk.corpus import stopwords\n",
    "import nltk, re\n",
    "\n",
    "from pyspark.ml import Pipeline\n",
    "from pyspark.ml import PipelineModel\n",
    "\n",
    "pd.options.display.max_colwidth = -1"
   ]
  },
  {
   "cell_type": "code",
   "execution_count": 2,
   "metadata": {
    "collapsed": true
   },
   "outputs": [],
   "source": [
    "spark = pyspark.sql.SparkSession.builder.getOrCreate()\n",
    "sc = spark.sparkContext"
   ]
  },
  {
   "cell_type": "markdown",
   "metadata": {},
   "source": [
    "# Helper functions for LDA analysis"
   ]
  },
  {
   "cell_type": "code",
   "execution_count": 3,
   "metadata": {
    "collapsed": true
   },
   "outputs": [],
   "source": [
    "def com_lda(df, community_number, k):\n",
    "    \"\"\"\n",
    "    This function performs LDA on a given Twitter community with number of topics set to k.\n",
    "    \n",
    "    df: spark dataframe of tweet data\n",
    "    community_number: ID number for a community\n",
    "    k: number of topics\n",
    "    returns: model vocabulary, count vectorized tweets, and model object\n",
    "    \"\"\"\n",
    "    com_df = df.filter('community = {0}'.format(community_number))\n",
    "    temp = pipeline.fit(com_df)\n",
    "    vocab = temp.stages[2].vocabulary\n",
    "    com_df_features = temp.transform(com_df)\n",
    "    \n",
    "    lda = LDA(k=k, maxIter=100, optimizer='online')\n",
    "    model = lda.fit(com_df_features)\n",
    "    \n",
    "    return vocab, com_df_features, model\n",
    "\n",
    "def print_top_words(model, vocab):\n",
    "    \"\"\"\n",
    "    Prints the highest weighted words for each topic in a given LDA model.\n",
    "    \"\"\"\n",
    "    top_words = model.describeTopics().rdd.map(lambda x: x['termIndices']).collect()\n",
    "    \n",
    "    for i, topic in enumerate(top_words):\n",
    "        print('Topic {0}:'.format(i), end=' ')\n",
    "        for index in topic:\n",
    "            print(vocab[index], end=', ')\n",
    "        print('\\n')\n",
    "        \n",
    "def get_top_tweet_ids(model, df):\n",
    "    \"\"\"\n",
    "    Uses the dot product of topic-by-word vectors and tweet-by-word-count vectors to score each tweet's\n",
    "    relevance to an LDA topic.\n",
    "    returns: 2D array of tweets for each LDA topic, sorted in order of relevance descending\n",
    "    \"\"\"\n",
    "    ids = []\n",
    "    m = model.topicsMatrix().toArray()\n",
    "    n_topics = m.shape[1]\n",
    "    for col in range(n_topics):\n",
    "        topic = m[:, col]\n",
    "        tweet_scores = df.rdd.map(lambda x: (x['features'].dot(topic), x['tweet_id'])).collect()\n",
    "        ids.extend([tweet_id for score, tweet_id in sorted(tweet_scores, reverse=True)])\n",
    "    res = np.array(ids).reshape(n_topics, -1)\n",
    "    return res"
   ]
  },
  {
   "cell_type": "markdown",
   "metadata": {},
   "source": [
    "# Load tweet data and community data"
   ]
  },
  {
   "cell_type": "code",
   "execution_count": 3,
   "metadata": {
    "collapsed": false
   },
   "outputs": [],
   "source": [
    "tweets = spark.read.parquet('tweets_all.parquet')\n",
    "coms = spark.read.parquet('communities.parquet')"
   ]
  },
  {
   "cell_type": "code",
   "execution_count": 6,
   "metadata": {
    "collapsed": false
   },
   "outputs": [],
   "source": [
    "# Remove URLs and @mentions from tweet text\n",
    "# Use only tweets that were written originals, not retweets or quotes\n",
    "lda_tweets = tweets.filter('retweet_id is null and quote_id is null').select('tweet_id', 'screen_name', 'name',\n",
    "                  regexp_replace('text', r'(https?://[^ ,]+)|(@[\\w_]+)', '').alias('text')) \\\n",
    "    .join(coms, 'screen_name', 'inner')\n",
    "lda_tweets.persist(StorageLevel.MEMORY_AND_DISK)\n",
    "lda_tweets.registerTempTable('lda_tweets')"
   ]
  },
  {
   "cell_type": "code",
   "execution_count": 7,
   "metadata": {
    "collapsed": false
   },
   "outputs": [
    {
     "name": "stdout",
     "output_type": "stream",
     "text": [
      "+---------------+------------------+--------------------+--------------------+---------+\n",
      "|    screen_name|          tweet_id|                name|                text|community|\n",
      "+---------------+------------------+--------------------+--------------------+---------+\n",
      "| iansomerhalder|228120301790167040|     Ian Somerhalder|KIDS,TEENS,PARENT...|       45|\n",
      "|realDonaldTrump|435741126440808448|     Donald J. Trump|\":   Whether Glob...|        9|\n",
      "|  YEARSofLIVING|655409401533218816|               YEARS|5 ways to reduce ...|       10|\n",
      "|  powerglobalus|657771285968109568|         Powerglobal|Progressive expec...|        3|\n",
      "|  powerglobalus|682330791427194882|         Powerglobal|UN Climate Change...|        3|\n",
      "|  sydneysleroux|709818869368688641|              andrea|glad to see flori...|        0|\n",
      "|      WorldBank|729761681723772930|          World Bank|#Climatechange + ...|        4|\n",
      "|       KottieCB|774609086415511552|    K Christie-Blick|Teaching ideas fo...|       10|\n",
      "|           Esri|779456319862353920|                Esri|Proud to support ...|       23|\n",
      "|   shabbadranks|785634112199598082|   ...but idk tho...|\"men are responsi...|        0|\n",
      "|   LanaParrilla|795690878056599553|       Lana Parrilla|Last day to see ’...|        4|\n",
      "|        SpryGuy|801458564695027716|            Spry Guy|And so it begins:...|        2|\n",
      "|     yottapoint|803448728988225536|  T. R. Ramachandran|9) W/ ClimateGate...|        2|\n",
      "|         ecoflo|805334073883365376|     Florent Baarsch|How poor monitori...|       34|\n",
      "|       ECCA2017|806483585117126656|AdaptationConference|One year on from ...|        4|\n",
      "|   ADRIANSYSNET|806641963176894464|         Adrian Sung| #philpapers\n",
      "#Fut...|        4|\n",
      "|       USATODAY|808428756058640384|           USA TODAY|Jeff Bezos, Richa...|       21|\n",
      "|    cathmckenna|808504861134295041|   Catherine McKenna|Neat to see the a...|       12|\n",
      "|       Uber_Pix|809342793009233920|Perfectly Timed Pics|Here you can see ...|       50|\n",
      "|     DrRebeccaO|815001521838403584|Dr Rebecca Oyomopito|#VestedInterest d...|       20|\n",
      "+---------------+------------------+--------------------+--------------------+---------+\n",
      "only showing top 20 rows\n",
      "\n"
     ]
    }
   ],
   "source": [
    "lda_tweets.show()"
   ]
  },
  {
   "cell_type": "code",
   "execution_count": 8,
   "metadata": {
    "collapsed": false
   },
   "outputs": [
    {
     "name": "stdout",
     "output_type": "stream",
     "text": [
      "+---------+-------+\n",
      "|community|n_nodes|\n",
      "+---------+-------+\n",
      "|        3|  13434|\n",
      "|       10|  11534|\n",
      "|        9|   9583|\n",
      "|        2|   7586|\n",
      "|       11|   6734|\n",
      "|        4|   5506|\n",
      "|       18|   4354|\n",
      "|       21|   2893|\n",
      "|       28|   2588|\n",
      "|       20|   2487|\n",
      "+---------+-------+\n",
      "\n"
     ]
    }
   ],
   "source": [
    "# How many users per community?\n",
    "spark.sql(\"\"\"\n",
    "    select community, count(distinct screen_name) as n_nodes\n",
    "    from lda_tweets\n",
    "    where community is not null\n",
    "    group by community\n",
    "    order by n_nodes desc\n",
    "    limit 10\n",
    "\"\"\").show()"
   ]
  },
  {
   "cell_type": "markdown",
   "metadata": {},
   "source": [
    "# Set parameters for text preprocessing"
   ]
  },
  {
   "cell_type": "code",
   "execution_count": 9,
   "metadata": {
    "collapsed": false
   },
   "outputs": [],
   "source": [
    "tweet_stopwords = stopwords.words('english') + \\\n",
    "    ['rt', 'climate', 'change', 'global', 'warming', 'climatechange', 'climate', 'globalwarming', 'https', 'http',\n",
    "        'amp', 'via', 'one', 'around', 'would', 'let', 'could', 'going', 'like', 'get', 'may', 'says', 'say', 'make',\n",
    "        'based', 'even', 'another', 'completely', 'thanks', 'way', 'find', 'used', 'thing', '2017', 'see', 'need',\n",
    "        'know', 'global-warming', 'climate-change', 'knows', 'think', 'thinks', 'take', 'new', 'day', 'days']"
   ]
  },
  {
   "cell_type": "code",
   "execution_count": 10,
   "metadata": {
    "collapsed": true
   },
   "outputs": [],
   "source": [
    "# Create regex tokenizer that is useful for Twitter data (preserves emoticons, hashtags, etc.)\n",
    "# I used code from here, with some modifications: https://github.com/adonoho/TweetTokenizers/blob/master/PottsTweetTokenizer.py\n",
    "\n",
    "pattern = r\"\"\"(?:\\[link\\])|(?:(?:\\+?[01][\\-\\s.]*)?(?:[\\(]?\\d{3}[\\-\\s.\\)]*)?\\d{3}[\\-\\s.]*\\d{4})|(?:(?<= )[<>]?[:;=8][\\-o\\*\\']?[\\)\\]\\(\\[dDpP/\\:\\}\\{@\\|\\\\]|[\\)\\]\\(\\[dDpP/\\:\\}\\{@\\|\\\\][\\-o\\*\\']?[:;=8][<>]?)|(<[^>]+>)|(?:@[\\w_]+)|(?:[\"\\'][a-z0-9/-]+[\"\\'])|(?:[a-z][a-z\\-_]+[a-z])|(?:[+\\-]?\\d+[,/.:-]\\d+[+\\-]?)|(?:[\\w_]+)\"\"\"\n",
    "\n",
    "word_re = re.compile(pattern, re.VERBOSE | re.I | re.UNICODE)"
   ]
  },
  {
   "cell_type": "code",
   "execution_count": 11,
   "metadata": {
    "collapsed": false
   },
   "outputs": [],
   "source": [
    "# Tokenize tweets\n",
    "tokenizer = RegexTokenizer(inputCol=\"text\", outputCol=\"tokens\", gaps=False, pattern=word_re.pattern,\n",
    "                              minTokenLength = 2)\n",
    "\n",
    "# Remove stopwords\n",
    "stp_rmv = StopWordsRemover(inputCol=tokenizer.getOutputCol(), outputCol='new_tokens',\n",
    "                           stopWords=tweet_stopwords)\n",
    "\n",
    "# Count occurences of words\n",
    "cnvk = CountVectorizer(inputCol=stp_rmv.getOutputCol(), outputCol='features', vocabSize=10000)\n",
    "\n",
    "# Pipeline\n",
    "pipeline = Pipeline(stages=[tokenizer, stp_rmv, cnvk])"
   ]
  },
  {
   "cell_type": "markdown",
   "metadata": {},
   "source": [
    "# Run LDA for each community, with n_topics ranging from k=6 to k=8"
   ]
  },
  {
   "cell_type": "code",
   "execution_count": null,
   "metadata": {
    "collapsed": true
   },
   "outputs": [],
   "source": [
    "# Run LDA and save a list with all of the models\n",
    "\n",
    "communities = [3,4,2,18,12,28]\n",
    "vocab_list = []\n",
    "df_features_list = []\n",
    "model_list = []\n",
    "ks = range(6,9)\n",
    "for community in communities:\n",
    "    for k in ks:\n",
    "        vocab, com_df_features, model = com_lda(lda_tweets, community, k)\n",
    "        vocab_list.append(vocab)\n",
    "        df_features_list.append(com_df_features)\n",
    "        model_list.append(model)"
   ]
  },
  {
   "cell_type": "markdown",
   "metadata": {},
   "source": [
    "# Choose model for Com 28"
   ]
  },
  {
   "cell_type": "code",
   "execution_count": 102,
   "metadata": {
    "collapsed": false
   },
   "outputs": [],
   "source": [
    "# Separate out Com 28 models\n",
    "vocab28 = vocab_list[15:18]\n",
    "df_features28 = df_features_list[15:18]\n",
    "model28 = model_list[15:18]"
   ]
  },
  {
   "cell_type": "code",
   "execution_count": 103,
   "metadata": {
    "collapsed": false
   },
   "outputs": [
    {
     "name": "stdout",
     "output_type": "stream",
     "text": [
      "Top Words for Community 12\n",
      "Topic 0: solar, action, energy, join, help, risk, uk, business, renewables, water, \n",
      "\n",
      "Topic 1: latest, daily, news, environment, due, green, scientists, ocean, protect, forests, \n",
      "\n",
      "Topic 2: trump, us, budget, science, donald, environment, scientists, news, research, epa, \n",
      "\n",
      "Topic 3: earth, time, weather, people, world, still, deniers, oceans, well, first, \n",
      "\n",
      "Topic 4: carbon, epa, pruitt, scott, dioxide, plan, energy, head, science, arctic, \n",
      "\n",
      "Topic 5: great, shell, oil, 1991, trump, scientists, us, impacts, already, film, \n",
      "\n",
      "\n",
      "\n",
      "Top Words for Community 12\n",
      "Topic 0: shell, oil, 1991, knew, film, danger, impact, giant, court, warned, \n",
      "\n",
      "Topic 1: latest, daily, due, ocean, us, people, green, environment, uk, forests, \n",
      "\n",
      "Topic 2: trump, us, scientists, environment, world, budget, research, news, donald, epa, \n",
      "\n",
      "Topic 3: scientists, great, dead, australia, reef, large, sections, also, women, humans, \n",
      "\n",
      "Topic 4: carbon, energy, epa, pruitt, scott, action, dioxide, solar, chief, uk, \n",
      "\n",
      "Topic 5: news, science, latest, years, budget, white, spring, tillerson, house, exxon, \n",
      "\n",
      "Topic 6: arctic, great, sea, ice, reef, barrier, gt, real, natural, save, \n",
      "\n",
      "\n",
      "\n",
      "Top Words for Community 12\n",
      "Topic 0: solar, plan, state, tillerson, us, un, first, exxon, draft, energy, \n",
      "\n",
      "Topic 1: latest, daily, us, news, scientists, environment, green, action, join, earth, \n",
      "\n",
      "Topic 2: trump, world, environment, science, budget, arctic, ice, real, sea, scientists, \n",
      "\n",
      "Topic 3: trump, shell, oil, 1991, film, knew, danger, time, giant, denial, \n",
      "\n",
      "Topic 4: energy, budget, emissions, science, uk, carbon, plan, action, house, gt, \n",
      "\n",
      "Topic 5: uk, forests, due, protect, list, disappearing, include, kelp, ocean, ospar, \n",
      "\n",
      "Topic 6: court, fought, battles, increasingly, government, met, de, tessa, oil, fuels, \n",
      "\n",
      "Topic 7: epa, carbon, pruitt, scott, chief, dioxide, great, head, scientists, reef, \n",
      "\n",
      "\n",
      "\n"
     ]
    }
   ],
   "source": [
    "# View top words for each k\n",
    "for model, vocab in zip(model28, vocab28):\n",
    "    print('Top Words for Community 12')\n",
    "    print_top_words(model, vocab)\n",
    "    print('\\n')"
   ]
  },
  {
   "cell_type": "code",
   "execution_count": 104,
   "metadata": {
    "collapsed": true
   },
   "outputs": [],
   "source": [
    "# Get Com 28 k=7 top tweets\n",
    "top28_7 = get_top_tweet_ids(model28[1], df_features28[1])"
   ]
  },
  {
   "cell_type": "code",
   "execution_count": 114,
   "metadata": {
    "collapsed": false
   },
   "outputs": [
    {
     "name": "stdout",
     "output_type": "stream",
     "text": [
      "+-------------+---------+-------------------------------------------------------------------------------------------------------------+\n",
      "|screen_name  |community|text                                                                                                         |\n",
      "+-------------+---------+-------------------------------------------------------------------------------------------------------------+\n",
      "|GomeKarim    |28       |Top story: Large Sections of Australia’s Great Reef Are Now Dead, Scientists Fi… , see more                  |\n",
      "|Worldnews_top|28       |Large Sections of Australiaâs Great Reef Are Now Dead, Scientists Find  #worldnews #news #breakingnews     |\n",
      "|BiancaJagger |28       |Devastating news RT Large Sections of Australia’s Great Reef Are Now Dead, Scientists Find                   |\n",
      "|MandalaCosmos|28       |#SaveEarth =&gt; Large Sections of Australia’s Great Reef Are Now Dead, Scientists Find - The New York Times |\n",
      "|adamspector2 |28       |Large Sections of Australia’s Great Reef Are Now Dead, Scientists Find.  so glad you guys exist!             |\n",
      "|TribuneSCI   |28       |Large Sections of Australia's Great Reef Are Now Dead, Scientists Find - New York Times                      |\n",
      "|KhamakarPress|28       |Top story: Large Sections of Australia’s Great Reef Are Now Dead, Scientists Fi… , see more                  |\n",
      "|BiancaJagger |28       |Devastating new RT Large Sections of Australia’s Great Reef Are Now Dead, Scientists Find                    |\n",
      "|Worldnews_top|28       |Large Sections of Australia's Great Reef Are Now Dead, Scientists Find  #worldnews #news #breakingnews       |\n",
      "|Worldnews_top|28       |Large Sections of Australia’s Great Reef Are Now Dead, Scientists Find  #worldnews #news #breakingnews       |\n",
      "+-------------+---------+-------------------------------------------------------------------------------------------------------------+\n",
      "\n"
     ]
    }
   ],
   "source": [
    "# Best tweets\n",
    "lda_tweets.filter('tweet_id in {0}'.format(tuple(top28_7[3,:10]))).select('screen_name', 'community', 'text') \\\n",
    "                    .show(40, truncate=False)"
   ]
  },
  {
   "cell_type": "code",
   "execution_count": 111,
   "metadata": {
    "collapsed": true
   },
   "outputs": [],
   "source": [
    "# Save best Com 28 models\n",
    "com28_model = model28[1]\n",
    "com28_df = df_features28[1]\n",
    "com28_vocab = vocab28[1]"
   ]
  },
  {
   "cell_type": "code",
   "execution_count": 187,
   "metadata": {
    "collapsed": false
   },
   "outputs": [
    {
     "data": {
      "text/plain": [
       "DenseVector([0.0838, 0.0914, 0.182, 0.0777, 0.1355, 0.0934, 0.0955])"
      ]
     },
     "execution_count": 187,
     "metadata": {},
     "output_type": "execute_result"
    }
   ],
   "source": [
    "com28_model.estimatedDocConcentration()"
   ]
  },
  {
   "cell_type": "code",
   "execution_count": 181,
   "metadata": {
    "collapsed": false
   },
   "outputs": [],
   "source": [
    "# Save all model data\n",
    "com28_model.save('./lda_data/com28_lda_model') # Load with LocalLDAModel.load('lda_data/com28_lda_model')\n",
    "with open('./lda_data/com28_lda_vocab.pkl', 'wb') as pklfile:\n",
    "    pickle.dump(com28_vocab, pklfile)\n",
    "com28_df.write.parquet('./lda_data/com28_df.parquet')"
   ]
  },
  {
   "cell_type": "markdown",
   "metadata": {},
   "source": [
    "# Choose model for Com 12 (Canadians!)"
   ]
  },
  {
   "cell_type": "code",
   "execution_count": 88,
   "metadata": {
    "collapsed": false
   },
   "outputs": [],
   "source": [
    "# Separate out Com 12 models\n",
    "vocab12 = vocab_list[12:15]\n",
    "df_features12 = df_features_list[12:15]\n",
    "model12 = model_list[12:15]"
   ]
  },
  {
   "cell_type": "code",
   "execution_count": 89,
   "metadata": {
    "collapsed": false
   },
   "outputs": [
    {
     "name": "stdout",
     "output_type": "stream",
     "text": [
      "Top Words for Community 12\n",
      "Topic 0: epa, carbon, chief, co2, pruitt, scott, dioxide, science, energy, cause, \n",
      "\n",
      "Topic 1: science, house, daily, canada, white, talk, latest, fossil, budget, trump, \n",
      "\n",
      "Topic 2: trump, communities, adapt, canada, administration, fund, inuit, knowledge, great, archive, \n",
      "\n",
      "Topic 3: work, planet, permafrost, deniers, science, canada, release, carbon, cdnpoli, read, \n",
      "\n",
      "Topic 4: study, help, world, action, weather, daily, meet, tillerson, cdnpoli, latest, \n",
      "\n",
      "Topic 5: trump, cdnpoli, science, canada, environment, us, oil, news, people, shell, \n",
      "\n",
      "\n",
      "\n",
      "Top Words for Community 12\n",
      "Topic 0: energy, world, earth, africa, education, meet, power, melting, green, battle, \n",
      "\n",
      "Topic 1: great, daily, canada, latest, study, carbon, scientists, help, plan, action, \n",
      "\n",
      "Topic 2: years, planet, water, ago, women, work, case, read, youth, stop, \n",
      "\n",
      "Topic 3: cdnpoli, canada, carbon, news, future, record, permafrost, tax, rising, show, \n",
      "\n",
      "Topic 4: canada, communities, adapt, cdnpoli, fund, inuit, knowledge, archive, living, helps, \n",
      "\n",
      "Topic 5: oil, canadians, fossil, ice, sea, time, gas, coal, big, fuels, \n",
      "\n",
      "Topic 6: trump, epa, science, chief, pruitt, co2, scott, carbon, dioxide, us, \n",
      "\n",
      "\n",
      "\n",
      "Top Words for Community 12\n",
      "Topic 0: co2, water, meet, record, africa, health, leading, activist, battle, kenyan, \n",
      "\n",
      "Topic 1: study, great, australia, scientists, save, year, reef, coral, reefs, stopping, \n",
      "\n",
      "Topic 2: canada, world, communities, carbon, adapt, fund, inuit, knowledge, archive, cdnpoli, \n",
      "\n",
      "Topic 3: budget, cut, house, white, agency, science, proposes, carbon, leading, tax, \n",
      "\n",
      "Topic 4: daily, latest, support, green, energy, environmental, action, cdnpoli, deniers, people, \n",
      "\n",
      "Topic 5: environment, oil, energy, report, cdnpoli, house, future, 17, big, republicans, \n",
      "\n",
      "Topic 6: trump, epa, chief, science, carbon, dioxide, administration, cause, pruitt, co2, \n",
      "\n",
      "Topic 7: science, pruitt, us, scott, canada, cdnpoli, today, shell, scientists, tillerson, \n",
      "\n",
      "\n",
      "\n"
     ]
    }
   ],
   "source": [
    "# View top words for each k\n",
    "for model, vocab in zip(model12, vocab12):\n",
    "    print('Top Words for Community 12')\n",
    "    print_top_words(model, vocab)\n",
    "    print('\\n')"
   ]
  },
  {
   "cell_type": "code",
   "execution_count": 90,
   "metadata": {
    "collapsed": true
   },
   "outputs": [],
   "source": [
    "# Get Com 12 k=8 top tweets\n",
    "top12_8 = get_top_tweet_ids(model12[2], df_features12[2])"
   ]
  },
  {
   "cell_type": "code",
   "execution_count": 99,
   "metadata": {
    "collapsed": false
   },
   "outputs": [
    {
     "name": "stdout",
     "output_type": "stream",
     "text": [
      "+---------------+---------+----------------------------------------------------------------------------------------------------------------------------------------+\n",
      "|screen_name    |community|text                                                                                                                                    |\n",
      "+---------------+---------+----------------------------------------------------------------------------------------------------------------------------------------+\n",
      "|environmentguru|12       |EPA head Scott Pruitt denies that carbon dioxide causes global warming: Scott Pruitt…                                                   |\n",
      "|bluemassgroup  |12       |(202-564-4700) =&gt; Scott Pruitt’s office deluged with angry callers after he questions the science of global warming                  |\n",
      "|regwhit1       |12       |Scott Pruitt’s office deluged with angry callers after he questions the science of global warming                                       |\n",
      "|Sciencesharenew|12       |Scott Pruitt's office deluged with angry callers after he questions the science of global warming - Washington Post                     |\n",
      "|environmentguru|12       |Backlash as EPA chief Scott Pruitt questions science of global warming: Sky: Scott Pruitt…                                              |\n",
      "|environmentguru|12       |EPA head Scott Pruitt denies that carbon dioxide causes global warming: Scott Pruitt…                                                   |\n",
      "|deepgreendesign|12       |#GoodNewsIn5Words: Science will make it better. #Science #GIE #Design #CdnPoli #Climate #FoodSecurity #COP23 #CdnPoli #AbLeg #Innovation|\n",
      "|RengsecondEng  |12       |Scott #Pruitt’s office deluged with angry callers after he questions #science of #globalwarming  #risingseas? storms?                   |\n",
      "|eDesignDynamics|12       |Scott Pruitt’s office deluged with angry callers after he questions the science of global warming                                       |\n",
      "|Jo_Lofty       |12       |Scott Pruitt’s office deluged with angry callers after he questions science of global warming - The Washington Post                     |\n",
      "+---------------+---------+----------------------------------------------------------------------------------------------------------------------------------------+\n",
      "\n"
     ]
    }
   ],
   "source": [
    "# Best tweets\n",
    "lda_tweets.filter('tweet_id in {0}'.format(tuple(top12_8[7,:10]))).select('screen_name', 'community', 'text') \\\n",
    "                    .show(40, truncate=False)"
   ]
  },
  {
   "cell_type": "code",
   "execution_count": 100,
   "metadata": {
    "collapsed": true
   },
   "outputs": [],
   "source": [
    "# Save best Com 12 models\n",
    "com12_model = model12[2]\n",
    "com12_df = df_features12[2]\n",
    "com12_vocab = vocab12[2]"
   ]
  },
  {
   "cell_type": "code",
   "execution_count": 101,
   "metadata": {
    "collapsed": false
   },
   "outputs": [
    {
     "data": {
      "text/plain": [
       "DenseVector([0.0855, 0.0826, 0.0928, 0.0711, 0.0862, 0.0907, 0.1193, 0.1319])"
      ]
     },
     "execution_count": 101,
     "metadata": {},
     "output_type": "execute_result"
    }
   ],
   "source": [
    "com12_model.estimatedDocConcentration()"
   ]
  },
  {
   "cell_type": "code",
   "execution_count": 182,
   "metadata": {
    "collapsed": false
   },
   "outputs": [],
   "source": [
    "# Save all model data\n",
    "com12_model.save('./lda_data/com12_lda_model')\n",
    "with open('./lda_data/com12_lda_vocab.pkl', 'wb') as pklfile:\n",
    "    pickle.dump(com12_vocab, pklfile)\n",
    "com12_df.write.parquet('./lda_data/com12_df.parquet')"
   ]
  },
  {
   "cell_type": "markdown",
   "metadata": {},
   "source": [
    "# Choose model for Com 3"
   ]
  },
  {
   "cell_type": "code",
   "execution_count": 31,
   "metadata": {
    "collapsed": false
   },
   "outputs": [],
   "source": [
    "# Separate out Com 3 models\n",
    "vocab3 = vocab_list[:3]\n",
    "df_features3 = df_features_list[:3]\n",
    "model3 = model_list[:3]"
   ]
  },
  {
   "cell_type": "code",
   "execution_count": 32,
   "metadata": {
    "collapsed": false
   },
   "outputs": [
    {
     "name": "stdout",
     "output_type": "stream",
     "text": [
      "Top Words for Community 3\n",
      "Topic 0: scientists, trump, snow, news, caused, weather, right, fake, real, believe, \n",
      "\n",
      "Topic 1: epa, carbon, trump, science, pruitt, chief, weather, scott, 21, dioxide, \n",
      "\n",
      "Topic 2: science, hoax, security, ice, models, national, threat, mattis, sea, story, \n",
      "\n",
      "Topic 3: trump, money, science, research, bill, waste, director, nye, budget, scam, \n",
      "\n",
      "Topic 4: gore, al, man-made, trump, course, deniers, bernie, golf, sanders, eric, \n",
      "\n",
      "Topic 5: science, consensus, 97, talk, epa, cut, lie, blog, fake, house, \n",
      "\n",
      "\n",
      "\n",
      "Top Words for Community 3\n",
      "Topic 0: scientists, trump, science, bill, believe, hoax, real, nye, news, obama, \n",
      "\n",
      "Topic 1: trump, epa, pruitt, scott, chief, 21, us, great, cop, programs, \n",
      "\n",
      "Topic 2: weather, science, models, security, story, national, claims, mattis, threat, experts, \n",
      "\n",
      "Topic 3: money, trump, research, waste, director, consensus, budget, scam, talk, 97, \n",
      "\n",
      "Topic 4: trump, course, denier, golf, narrative, millions, protesters, deny, snow, look, \n",
      "\n",
      "Topic 5: cut, lie, agency, house, white, science, debunked, 97, consensus, budget, \n",
      "\n",
      "Topic 6: science, carbon, epa, co2, primary, contributor, cause, dioxide, blog, chief, \n",
      "\n",
      "\n",
      "\n",
      "Top Words for Community 3\n",
      "Topic 0: hoax, scientists, news, trump, bill, nye, tucker, threat, fake, carlson, \n",
      "\n",
      "Topic 1: science, epa, trump, co2, scientists, pruitt, people, real, us, great, \n",
      "\n",
      "Topic 2: science, weather, blog, models, experts, deplorable, data, sally, temperature, kohn, \n",
      "\n",
      "Topic 3: trump, money, research, 97, consensus, waste, director, budget, talk, man, \n",
      "\n",
      "Topic 4: trump, talking, bernie, speech, point, sanders, leftist, libs, man-made, order, \n",
      "\n",
      "Topic 5: epa, carbon, chief, dioxide, house, primary, white, contributor, science, agency, \n",
      "\n",
      "Topic 6: 21, cop, ice, gore, al, arctic, green, energy, sea, billion, \n",
      "\n",
      "Topic 7: snow, deniers, cause, earth, humans, scientists, oil, blizzard, always, predict, \n",
      "\n",
      "\n",
      "\n"
     ]
    }
   ],
   "source": [
    "# View top words for each k\n",
    "for model, vocab in zip(model3, vocab3):\n",
    "    print('Top Words for Community 3')\n",
    "    print_top_words(model, vocab)\n",
    "    print('\\n')"
   ]
  },
  {
   "cell_type": "code",
   "execution_count": null,
   "metadata": {
    "collapsed": true
   },
   "outputs": [],
   "source": [
    "# Get Com 3 k=8 top tweets\n",
    "top3_8 = get_top_tweet_ids(model_list[2], df_features_list[2])"
   ]
  },
  {
   "cell_type": "code",
   "execution_count": null,
   "metadata": {
    "collapsed": true
   },
   "outputs": [],
   "source": [
    "# Save best Com 3 models\n",
    "com3_model = model_list[2]\n",
    "com3_df = df_features_list[2]\n",
    "com3_vocab = vocab_list[2]"
   ]
  },
  {
   "cell_type": "code",
   "execution_count": 49,
   "metadata": {
    "collapsed": false
   },
   "outputs": [
    {
     "data": {
      "text/plain": [
       "DenseVector([0.1275, 0.1524, 0.0946, 0.1115, 0.0813, 0.0871, 0.1008, 0.0929])"
      ]
     },
     "execution_count": 49,
     "metadata": {},
     "output_type": "execute_result"
    }
   ],
   "source": [
    "com3_model.estimatedDocConcentration()"
   ]
  },
  {
   "cell_type": "code",
   "execution_count": 183,
   "metadata": {
    "collapsed": false
   },
   "outputs": [],
   "source": [
    "# Save all model data\n",
    "com3_model.save('./lda_data/com3_lda_model')\n",
    "with open('./lda_data/com3_lda_vocab.pkl', 'wb') as pklfile:\n",
    "    pickle.dump(com3_vocab, pklfile)\n",
    "com3_df.write.parquet('./lda_data/com3_df.parquet')"
   ]
  },
  {
   "cell_type": "markdown",
   "metadata": {},
   "source": [
    "# Choose model for Com 4"
   ]
  },
  {
   "cell_type": "code",
   "execution_count": 39,
   "metadata": {
    "collapsed": false
   },
   "outputs": [],
   "source": [
    "# Separate out Com 4 models\n",
    "vocab4 = vocab_list[3:6]\n",
    "df_features4 = df_features_list[3:6]\n",
    "model4 = model_list[3:6]"
   ]
  },
  {
   "cell_type": "code",
   "execution_count": 41,
   "metadata": {
    "collapsed": false
   },
   "outputs": [
    {
     "name": "stdout",
     "output_type": "stream",
     "text": [
      "Top Words for Community 4\n",
      "Topic 0: action, cities, news, cop, last, de, taking, nature, la, 22, \n",
      "\n",
      "Topic 1: women, latest, us, daily, 4climate, fight, join, world, impact, impacts, \n",
      "\n",
      "Topic 2: threat, children, arctic, energy, agriculture, world, years, ice, food, environment, \n",
      "\n",
      "Topic 3: trump, science, epa, carbon, pruitt, chief, energy, budget, scott, environmental, \n",
      "\n",
      "Topic 4: terra, forming, solar, long, hoax, di, power, back, g20, south, \n",
      "\n",
      "Topic 5: gt, adaptation, scientists, climateaction, resilience, great, women, sustainable, health, australia, \n",
      "\n",
      "\n",
      "\n",
      "Top Words for Community 4\n",
      "Topic 0: epa, scientists, great, trump, us, chief, carbon, pruitt, science, dioxide, \n",
      "\n",
      "Topic 1: women, latest, daily, 4climate, fight, water, join, us, action, world, \n",
      "\n",
      "Topic 2: energy, de, la, tillerson, video, storage, farmers, zimbabwe, el, en, \n",
      "\n",
      "Topic 3: trump, adaptation, health, cop, news, science, budget, green, national, policy, \n",
      "\n",
      "Topic 4: weather, cities, report, trump, gender, meeting, mayor, live, smart, hope, \n",
      "\n",
      "Topic 5: gt, due, spring, early, migration, top, africa, conservation, agreement, paris, \n",
      "\n",
      "Topic 6: food, action, cities, climateaction, agriculture, impact, security, arctic, sustainable, taking, \n",
      "\n",
      "\n",
      "\n",
      "Top Words for Community 4\n",
      "Topic 0: epa, trump, us, pruitt, chief, carbon, science, scott, green, dioxide, \n",
      "\n",
      "Topic 1: women, latest, daily, water, fight, 4climate, adaptation, us, join, help, \n",
      "\n",
      "Topic 2: energy, eu, paris, agreement, world, storage, top, year, markets, trump, \n",
      "\n",
      "Topic 3: cop, trump, data, science, tillerson, 22, environmental, 23, exxon, news, \n",
      "\n",
      "Topic 4: trump, national, ):, online, retweeted, problem, floods, cities, coastal, americans, \n",
      "\n",
      "Topic 5: gt, food, future, risks, affect, migration, impact, report, africa, hot, \n",
      "\n",
      "Topic 6: great, action, arctic, scientists, ice, sea, reef, cities, earth, taking, \n",
      "\n",
      "Topic 7: terra, house, science, cut, budget, white, film, leading, shell, oil, \n",
      "\n",
      "\n",
      "\n"
     ]
    }
   ],
   "source": [
    "# View top words for each k\n",
    "for model, vocab in zip(model4, vocab4):\n",
    "    print('Top Words for Community 4')\n",
    "    print_top_words(model, vocab)\n",
    "    print('\\n')"
   ]
  },
  {
   "cell_type": "code",
   "execution_count": 42,
   "metadata": {
    "collapsed": true
   },
   "outputs": [],
   "source": [
    "# Get Com 4 k=8 top tweets\n",
    "top4_8 = get_top_tweet_ids(model4[2], df_features4[2])"
   ]
  },
  {
   "cell_type": "code",
   "execution_count": 44,
   "metadata": {
    "collapsed": false
   },
   "outputs": [
    {
     "name": "stdout",
     "output_type": "stream",
     "text": [
      "+--------------+---------+------------------------------------------------------------------------------------------------------------------------------------------------+\n",
      "|screen_name   |community|text                                                                                                                                            |\n",
      "+--------------+---------+------------------------------------------------------------------------------------------------------------------------------------------------+\n",
      "|c40cities     |4        |Mayors &amp; global leaders are gathering in NY today to highlight the critical role of women in the fight against climate change #Women4Climate|\n",
      "|AnnickNicky   |4        |Understanding the significant role of women in the fight against climate change is crucial, not just for women #women4climate #climateaction    |\n",
      "|Anne_Hidalgo  |4        |Women are more than half of humanity and the  showed that women are more vulnerable to climate change disasters. #Women4Climate                 |\n",
      "|Anne_Hidalgo  |4        |Women move mountains every day, in the general indifference of a world made for men. #Women4Climate #Women4Action                               |\n",
      "|c40cities     |4        |Women mayors are on the frontline of progress in the fight against climate change. #Women4Climate #Cities4Climate                               |\n",
      "|TheBergerWorld|4        |\"Women in climate change: women are social innovators and we need to harness that energy,\" -Paulette Frank,  #Women4Climate                     |\n",
      "|amylieberman  |4        |How to get #climatechange on political agenda for voters?#women prioritize CC. We need more women in office.  #Women4Climate                    |\n",
      "|c40cities     |4        |Calling all women to join #Women4Climate ▸ more than ever women must take the lead on cl…                                                       |\n",
      "|jooltman      |4        |Notable that women push more #climatechange related legislation when in office, according to . Run, women! #Women4Climate                       |\n",
      "|uclg_women    |4        |\"Women mayors must empower other women to survive the impact of climate change\"  #Women4Climate…                                                |\n",
      "+--------------+---------+------------------------------------------------------------------------------------------------------------------------------------------------+\n",
      "\n"
     ]
    }
   ],
   "source": [
    "# Best tweets\n",
    "lda_tweets.filter('tweet_id in {0}'.format(tuple(top4_8[1,:10]))).select('screen_name', 'community', 'text') \\\n",
    "                    .show(40, truncate=False)"
   ]
  },
  {
   "cell_type": "code",
   "execution_count": null,
   "metadata": {
    "collapsed": true
   },
   "outputs": [],
   "source": [
    "# Save best Com 4 models\n",
    "com4_model = model4[2]\n",
    "com4_df = df_features4[2]\n",
    "com4_vocab = vocab4[2]"
   ]
  },
  {
   "cell_type": "code",
   "execution_count": 50,
   "metadata": {
    "collapsed": false
   },
   "outputs": [
    {
     "data": {
      "text/plain": [
       "DenseVector([0.12, 0.2039, 0.0882, 0.0846, 0.0869, 0.0827, 0.0933, 0.0782])"
      ]
     },
     "execution_count": 50,
     "metadata": {},
     "output_type": "execute_result"
    }
   ],
   "source": [
    "com4_model.estimatedDocConcentration()"
   ]
  },
  {
   "cell_type": "code",
   "execution_count": 184,
   "metadata": {
    "collapsed": false
   },
   "outputs": [],
   "source": [
    "# Save all model data\n",
    "com4_model.save('./lda_data/com4_lda_model')\n",
    "with open('./lda_data/com4_lda_vocab.pkl', 'wb') as pklfile:\n",
    "    pickle.dump(com4_vocab, pklfile)\n",
    "com4_df.write.parquet('./lda_data/com4_df.parquet')"
   ]
  },
  {
   "cell_type": "markdown",
   "metadata": {},
   "source": [
    "# Choose model for Com 18"
   ]
  },
  {
   "cell_type": "code",
   "execution_count": 69,
   "metadata": {
    "collapsed": false
   },
   "outputs": [],
   "source": [
    "# Separate out Com 18 models\n",
    "vocab18 = vocab_list[9:12]\n",
    "df_features18 = df_features_list[9:12]\n",
    "model18 = model_list[9:12]"
   ]
  },
  {
   "cell_type": "code",
   "execution_count": 70,
   "metadata": {
    "collapsed": false
   },
   "outputs": [
    {
     "name": "stdout",
     "output_type": "stream",
     "text": [
      "Top Words for Community 18\n",
      "Topic 0: epa, pruitt, scott, carbon, scientists, co2, chief, dioxide, denial, primary, \n",
      "\n",
      "Topic 1: science, trump, budget, latest, cut, research, real, house, cuts, us, \n",
      "\n",
      "Topic 2: exxon, tillerson, money, work, read, alias, believe, rex, email, blog, \n",
      "\n",
      "Topic 3: trump, water, energy, us, california, humans, paris, administration, future, agreement, \n",
      "\n",
      "Topic 4: great, reef, australia, scientists, large, dead, barrier, sections, peopleandnaturespeakerseries, temperature, \n",
      "\n",
      "Topic 5: york, robinson, 2140, stanley, novel, kim, amy, brady, interviews, book, \n",
      "\n",
      "\n",
      "\n",
      "Top Words for Community 18\n",
      "Topic 0: pruitt, epa, scott, carbon, science, research, co2, chief, scientists, dioxide, \n",
      "\n",
      "Topic 1: science, trump, great, scientists, latest, epa, reef, cuts, arctic, budget, \n",
      "\n",
      "Topic 2: trump, people, us, science, security, energy, national, defense, secretary, challenge, \n",
      "\n",
      "Topic 3: york, robinson, 2140, stanley, oil, novel, kim, scientists, amy, brady, \n",
      "\n",
      "Topic 4: science, house, cut, white, budget, proposes, steep, agency, leading, record, \n",
      "\n",
      "Topic 5: water, happening, humans, caused, skeptics, agency, first, stacks, head, well, \n",
      "\n",
      "Topic 6: consensus, gt, scientific, denier, view, adaptation, solutions, risk, due, chief, \n",
      "\n",
      "\n",
      "\n",
      "Top Words for Community 18\n",
      "Topic 0: real, carbon, trump, co2, much, security, time, water, scientists, national, \n",
      "\n",
      "Topic 1: science, budget, trump, latest, cut, daily, agency, cuts, research, house, \n",
      "\n",
      "Topic 2: people, science, oil, ocean, read, years, work, shell, big, future, \n",
      "\n",
      "Topic 3: trump, us, deniers, tillerson, exxon, scientists, already, world, talk, good, \n",
      "\n",
      "Topic 4: great, reef, scientists, trump, arctic, australia, large, dead, barrier, sections, \n",
      "\n",
      "Topic 5: york, robinson, stanley, 2140, novel, kim, amy, brady, interviews, hoax, \n",
      "\n",
      "Topic 6: pruitt, epa, scott, chief, co2, head, science, scientists, denial, carbon, \n",
      "\n",
      "Topic 7: want, everything, view, trump, scientists, lawsuit, yes, chief, wonder, administration, \n",
      "\n",
      "\n",
      "\n"
     ]
    }
   ],
   "source": [
    "# View top words for each k\n",
    "for model, vocab in zip(model18, vocab18):\n",
    "    print('Top Words for Community 18')\n",
    "    print_top_words(model, vocab)\n",
    "    print('\\n')"
   ]
  },
  {
   "cell_type": "code",
   "execution_count": null,
   "metadata": {
    "collapsed": true
   },
   "outputs": [],
   "source": [
    "# Get Com 18 k=8\n",
    "top18_8 = get_top_tweet_ids(model18[2], df_features18[2])"
   ]
  },
  {
   "cell_type": "code",
   "execution_count": 84,
   "metadata": {
    "collapsed": false
   },
   "outputs": [
    {
     "name": "stdout",
     "output_type": "stream",
     "text": [
      "+---------------+---------+------------------------------------------------------------------------------------------------------------------------------------+\n",
      "|screen_name    |community|text                                                                                                                                |\n",
      "+---------------+---------+------------------------------------------------------------------------------------------------------------------------------------+\n",
      "|alecola66      |18       |Sometime it is difficult to understand people. Sometime people make you feel very angry 😡 #Trump                                   |\n",
      "|climatemedianet|18       |‘Shell knew’: oil giant's 1991 film warned of climate change danger | Environment | The Guardian                                    |\n",
      "|BrianRJacobson |18       |‘Shell knew’: oil giant's 1991 film warned of climate change danger #energyhumanities                                               |\n",
      "|guardianweekly |18       |‘Shell knew’: oil giant's 1991 film warned of climate change danger. From our friends                                               |\n",
      "|lecagle        |18       |How do you point how the history of racist, eugenics science while encouraging people to believe current climate science? IT'S HARD.|\n",
      "|ShawnHuckaby   |18       |‘Shell knew’: oil giant's 1991 film warned of climate change danger, yet they've done nothing since.                                |\n",
      "|larsleafblad   |18       |\"We learn from people we trust. We don't learn from people we don't trust.\" just heard via program on climate change .              |\n",
      "|Olu_GH         |18       |Who wins from this? Sicker people, dirtier air and water, fewer educated people, less research into climate change and biotech...   |\n",
      "|RadioProzac    |18       |‘#Shell knew’: oil giant's 1991 film warned of #climate change danger | Environment | The Guardian                                  |\n",
      "|nick_janzen    |18       |There's a lot of people at  &amp;  who do amazing science-- I hope their work gets to continue                                      |\n",
      "+---------------+---------+------------------------------------------------------------------------------------------------------------------------------------+\n",
      "\n"
     ]
    }
   ],
   "source": [
    "# Best tweets\n",
    "lda_tweets.filter('tweet_id in {0}'.format(tuple(top18_8[2,:10]))).select('screen_name', 'community', 'text') \\\n",
    "                    .show(100, truncate=False)"
   ]
  },
  {
   "cell_type": "code",
   "execution_count": 85,
   "metadata": {
    "collapsed": true
   },
   "outputs": [],
   "source": [
    "# Save best Com 18 models\n",
    "com18_model = model18[2]\n",
    "com18_df = df_features18[2]\n",
    "com18_vocab = vocab18[2]"
   ]
  },
  {
   "cell_type": "code",
   "execution_count": 185,
   "metadata": {
    "collapsed": false
   },
   "outputs": [],
   "source": [
    "# Save all model data\n",
    "com18_model.save('./lda_data/com18_lda_model')\n",
    "with open('./lda_data/com18_lda_vocab.pkl', 'wb') as pklfile:\n",
    "    pickle.dump(com18_vocab, pklfile)\n",
    "com18_df.write.parquet('./lda_data/com18_df.parquet')"
   ]
  },
  {
   "cell_type": "markdown",
   "metadata": {},
   "source": [
    "# Choose model for Com 2"
   ]
  },
  {
   "cell_type": "code",
   "execution_count": 47,
   "metadata": {
    "collapsed": false
   },
   "outputs": [],
   "source": [
    "# Separate out Com 2 models\n",
    "vocab2 = vocab_list[6:9]\n",
    "df_features2 = df_features_list[6:9]\n",
    "model2 = model_list[6:9]"
   ]
  },
  {
   "cell_type": "code",
   "execution_count": 48,
   "metadata": {
    "collapsed": false
   },
   "outputs": [
    {
     "name": "stdout",
     "output_type": "stream",
     "text": [
      "Top Words for Community 2\n",
      "Topic 0: real, trump, us, people, believe, science, gop, world, hoax, water, \n",
      "\n",
      "Topic 1: epa, pruitt, scott, chief, tillerson, trump, exxon, science, email, carbon, \n",
      "\n",
      "Topic 2: trump, fight, republicans, scientists, 17, cuts, research, administration, join, high, \n",
      "\n",
      "Topic 3: trump, great, money, scientists, reef, environmental, dead, rules, curb, vehicle, \n",
      "\n",
      "Topic 4: bill, news, science, nye, tucker, carlson, early, guy, scientists, fox, \n",
      "\n",
      "Topic 5: trump, budget, science, house, cut, white, agency, leading, secretary, proposes, \n",
      "\n",
      "\n",
      "\n",
      "Top Words for Community 2\n",
      "Topic 0: trump, believe, us, real, scientists, administration, want, science, everything, denial, \n",
      "\n",
      "Topic 1: epa, pruitt, scott, chief, tillerson, science, exxon, email, carbon, co2, \n",
      "\n",
      "Topic 2: trump, denying, bernie, sanders, cnn, state, leader, epa, storms, blast, \n",
      "\n",
      "Topic 3: trump, scientists, great, money, defense, reef, hoax, real, national, australia, \n",
      "\n",
      "Topic 4: bill, news, nye, guy, snow, science, tucker, carlson, fox, time, \n",
      "\n",
      "Topic 5: agency, house, science, white, cut, budget, leading, proposes, steep, trump, \n",
      "\n",
      "Topic 6: budget, trump, cuts, research, programs, funding, noaa, high, earth, epa, \n",
      "\n",
      "\n",
      "\n",
      "Top Words for Community 2\n",
      "Topic 0: trump, real, science, believe, people, scientists, denial, want, us, gop, \n",
      "\n",
      "Topic 1: epa, pruitt, scott, science, chief, tillerson, exxon, trump, email, carbon, \n",
      "\n",
      "Topic 2: trump, fight, republicans, 17, join, latest, congress, challenge, send, scientists, \n",
      "\n",
      "Topic 3: trump, great, scientists, reef, money, national, rules, security, dead, secretary, \n",
      "\n",
      "Topic 4: march, state, happening, humans, causing, join, women, un, mass, theresistance, \n",
      "\n",
      "Topic 5: agency, house, science, budget, cut, white, leading, proposes, steep, skeptics, \n",
      "\n",
      "Topic 6: trump, hoax, mattis, record, chinese, scientist, breaks, high, earth, james, \n",
      "\n",
      "Topic 7: us, making, doctors, sick, february, warn, australia, million, nearly, half, \n",
      "\n",
      "\n",
      "\n"
     ]
    }
   ],
   "source": [
    "# View top words for each k\n",
    "for model, vocab in zip(model2, vocab2):\n",
    "    print('Top Words for Community 2')\n",
    "    print_top_words(model, vocab)\n",
    "    print('\\n')"
   ]
  },
  {
   "cell_type": "code",
   "execution_count": null,
   "metadata": {
    "collapsed": true
   },
   "outputs": [],
   "source": [
    "# Get Com 2 k=7\n",
    "top2_7 = get_top_tweet_ids(model2[1], df_features2[1])"
   ]
  },
  {
   "cell_type": "code",
   "execution_count": 67,
   "metadata": {
    "collapsed": false
   },
   "outputs": [
    {
     "name": "stdout",
     "output_type": "stream",
     "text": [
      "+--------------+---------+-------------------------------------------------------------------------------------------------------------------------------------------+\n",
      "|screen_name   |community|text                                                                                                                                       |\n",
      "+--------------+---------+-------------------------------------------------------------------------------------------------------------------------------------------+\n",
      "|lkherman      |2        |The EPA's Scott Pruitt says carbon dioxide isn't the main cause of global warming, but the EPA website says so.…                           |\n",
      "|MariaShea55   |2        |Science! It's real! \n",
      "EPA chief Scott Pruitt says carbon dioxide is not a primary contributor to global warming                             |\n",
      "|3X09          |2        |Can't we take \"Scott Pruitt\" to court and present evidence of climate change to make him enforce the EPA regulations? #pruitt #perjury #epa|\n",
      "|explenture    |2        |EPA chief Scott Pruitt says carbon dioxide is not a primary contributor to global warming  ignorance at the epa                            |\n",
      "|KAguirre58    |2        |Now some wise words from \"Scientist\" Pruitt: \n",
      "EPA head Scott Pruitt denies that carbon dioxide causes global warming                       |\n",
      "|hlconover     |2        |At odds with science, EPA chief Scott Pruitt says carbon dioxide is not a primary contributor to global warming.                           |\n",
      "|dailykos      |2        |EPA chief Scott Pruitt contradicts the EPA's own information to reach ugly level of science denial                                         |\n",
      "|OrAroundTen   |2        |An anti-science head of the EPA.\n",
      "\"EPA chief Scott Pruitt says carbon co2 not primary contributor to global warming\"                        |\n",
      "|AltLeftPress  |2        |Scott Pruitt – EPA head Scott Pruitt says carbon dioxide is not 'primary contributor' to global warming                                    |\n",
      "|realhardrocker|2        |\"EPA chief unconvinced on CO2 link to global warming\" -  Scott Pruitt spent his career suing EPA, Scott &amp; Rex = Exxon                  |\n",
      "+--------------+---------+-------------------------------------------------------------------------------------------------------------------------------------------+\n",
      "\n"
     ]
    }
   ],
   "source": [
    "# Best tweets\n",
    "lda_tweets.filter('tweet_id in {0}'.format(tuple(top2_7[1,:10]))).select('screen_name', 'community', 'text') \\\n",
    "                    .show(100, truncate=False)"
   ]
  },
  {
   "cell_type": "code",
   "execution_count": 68,
   "metadata": {
    "collapsed": true
   },
   "outputs": [],
   "source": [
    "# Save best Com 2 models\n",
    "com2_model = model2[1]\n",
    "com2_df = df_features2[1]\n",
    "com2_vocab = vocab2[1]"
   ]
  },
  {
   "cell_type": "code",
   "execution_count": 186,
   "metadata": {
    "collapsed": false
   },
   "outputs": [],
   "source": [
    "# Save all model data\n",
    "com2_model.save('./lda_data/com2_lda_model')\n",
    "with open('./lda_data/com2_lda_vocab.pkl', 'wb') as pklfile:\n",
    "    pickle.dump(com2_vocab, pklfile)\n",
    "com2_df.write.parquet('./lda_data/com2_df.parquet')"
   ]
  },
  {
   "cell_type": "markdown",
   "metadata": {},
   "source": [
    "# Choose model for Com 10"
   ]
  },
  {
   "cell_type": "code",
   "execution_count": 60,
   "metadata": {
    "collapsed": false
   },
   "outputs": [
    {
     "name": "stdout",
     "output_type": "stream",
     "text": [
      "Topic 0: shell, 1991, oil, fossil, film, fuel, knew, sustainability, denial, environment, \n",
      "\n",
      "Topic 1: trump, energy, p2, latest, daily, tcot, environment, coal, 2a, us, \n",
      "\n",
      "Topic 2: tillerson, exxon, us, years, alias, email, impacts, world, already, itstimetochange, \n",
      "\n",
      "Topic 3: scientists, great, australia, reef, barrier, save, time, summer, auspol, money, \n",
      "\n",
      "Topic 4: canada, show, permafrost, people, bill, rules, trump, carbon, huge, science, \n",
      "\n",
      "Topic 5: making, oil, us, warn, doctors, investors, risk, comes, first, food, \n",
      "\n",
      "Topic 6: ice, sea, arctic, record, ocean, itstimetochange, news, join, world, antarctica, \n",
      "\n",
      "Topic 7: house, trump, science, budget, white, cut, agency, leading, administration, post, \n",
      "\n",
      "Topic 8: republicans, fight, planet, believe, 17, americans, facts, health, march, happening, \n",
      "\n",
      "Topic 9: epa, pruitt, trump, chief, scott, carbon, science, dioxide, co2, head, \n",
      "\n"
     ]
    }
   ],
   "source": [
    "# Run community 10\n",
    "com10_vocab, com10_df, com10_model = com_lda(lda_tweets, 10, 10)\n",
    "\n",
    "print_top_words(com10_model, com10_vocab)"
   ]
  },
  {
   "cell_type": "code",
   "execution_count": null,
   "metadata": {
    "collapsed": true
   },
   "outputs": [],
   "source": [
    "top10_10 = get_top_tweet_ids(com10_model, com10_df)"
   ]
  },
  {
   "cell_type": "code",
   "execution_count": 22,
   "metadata": {
    "collapsed": false
   },
   "outputs": [
    {
     "name": "stdout",
     "output_type": "stream",
     "text": [
      "+---------------+---------+------------------------------------------------------------------------------------------------------------------------------------------+\n",
      "|screen_name    |community|text                                                                                                                                      |\n",
      "+---------------+---------+------------------------------------------------------------------------------------------------------------------------------------------+\n",
      "|symphorians1   |10       |Scott Pruitt is unfit to head the EPA. Via : EPA Chief Scott Pruitt Questions Basic Facts About Climate Change                            |\n",
      "|boinerz        |10       |EPA chief Pruitt says carbon dioxide is not to blame for global warming  SLEAZEWHORE EPA Pruitt EVIL                                      |\n",
      "|EdySemaan      |10       |Trump's EPA head Scott Pruitt denies that CO2 causes global warming. \n",
      "Trump's EPA head Scott Pruitt denies that CO2 causes global warming.|\n",
      "|killer_rabbit90|10       |\"EPA head Scott Pruitt denies that carbon dioxide causes global warming\" #news #science #ClimateChange #EPA                               |\n",
      "|100Concerned   |10       | : PRUITT STILL SUING EPA IS NOW HEAD OF EPA= DENYS SCIENCE OF CLIMATE CHANGE+COMMITTED TO TERMINATE EPA                                  |\n",
      "+---------------+---------+------------------------------------------------------------------------------------------------------------------------------------------+\n",
      "\n"
     ]
    }
   ],
   "source": [
    "# Best tweets \n",
    "lda_tweets.filter('tweet_id in {0}'.format(tuple(top_tweets[0,:20]))).select('screen_name', 'community', 'text') \\\n",
    "                    .show(truncate=False)"
   ]
  },
  {
   "cell_type": "code",
   "execution_count": 204,
   "metadata": {
    "collapsed": false
   },
   "outputs": [],
   "source": [
    "# Save all model data\n",
    "com10_model.save('./lda_data/com10_lda_model')\n",
    "with open('./lda_data/com10_lda_vocab.pkl', 'wb') as pklfile:\n",
    "    pickle.dump(com10_vocab, pklfile)\n",
    "com10_df.write.parquet('./lda_data/com10_df.parquet')"
   ]
  },
  {
   "cell_type": "markdown",
   "metadata": {},
   "source": [
    "# Choose model for Com 9"
   ]
  },
  {
   "cell_type": "code",
   "execution_count": 116,
   "metadata": {
    "collapsed": false
   },
   "outputs": [
    {
     "name": "stdout",
     "output_type": "stream",
     "text": [
      "Top Words for Community 9, k = 6 \n",
      "\n",
      "Topic 0: co2, real, us, send, dummies, drives, copy, trump, scientists, environment, \n",
      "\n",
      "Topic 1: science, epa, pruitt, scott, co2, chief, carbon, matter, opinion, dioxide, \n",
      "\n",
      "Topic 2: science, budget, cut, trump, gt, house, white, tip, bill, home, \n",
      "\n",
      "Topic 3: trump, real, money, research, people, want, world, hoax, believe, still, \n",
      "\n",
      "Topic 4: great, due, reef, jobs, dead, scientists, australia, carbon, february, large, \n",
      "\n",
      "Topic 5: hope, time, years, weather, 7cc, watch, greenhouse, last, gas, carbon, \n",
      "\n",
      "\n",
      "\n",
      "Top Words for Community 9, k = 7 \n",
      "\n",
      "Topic 0: co2, send, dummies, drives, copy, trump, resist, oil, scientists, great, \n",
      "\n",
      "Topic 1: science, epa, pruitt, co2, scott, carbon, matter, opinion, chief, dioxide, \n",
      "\n",
      "Topic 2: budget, trump, science, cut, bill, house, white, cuts, agency, paris, \n",
      "\n",
      "Topic 3: trump, world, real, money, earth, us, research, people, want, waste, \n",
      "\n",
      "Topic 4: soon, due, back, rights, 2010, explained, sleds, toboggans, isis, mark, \n",
      "\n",
      "Topic 5: environment, thank, hope, latest, time, 7cc, february, actonclimate, stayinformedcc, shell, \n",
      "\n",
      "Topic 6: real, weather, scientists, snow, hoax, us, ice, made, today, man, \n",
      "\n",
      "\n",
      "\n",
      "Top Words for Community 9, k = 8 \n",
      "\n",
      "Topic 0: co2, trump, send, dummies, drives, copy, real, scientists, great, us, \n",
      "\n",
      "Topic 1: science, epa, pruitt, believe, scott, co2, chief, carbon, matter, opinion, \n",
      "\n",
      "Topic 2: science, house, trump, chinese, energy, bill, white, budget, maga, cut, \n",
      "\n",
      "Topic 3: trump, real, want, water, air, science, weather, clean, mean, epa, \n",
      "\n",
      "Topic 4: carbon, vehicle, rules, curb, trump, undo, emissions, post, back, course, \n",
      "\n",
      "Topic 5: gt, tip, home, mission, winter, storm, blizzard, warm, coast, february, \n",
      "\n",
      "Topic 6: snow, help, us, impact, 17, hoax, views, today, time, degrees, \n",
      "\n",
      "Topic 7: exxon, tillerson, weather, alias, email, paris, discuss, rex, extreme, agreement, \n",
      "\n",
      "\n",
      "\n"
     ]
    }
   ],
   "source": [
    "# Run community 9\n",
    "community = 9\n",
    "ks = range(6,9)\n",
    "vocab9=[]\n",
    "model9=[]\n",
    "df_features9=[]\n",
    "for k in ks:\n",
    "    vocab, com_df_features, model = com_lda(lda_tweets, community, k)\n",
    "    vocab9.append(vocab)\n",
    "    df_features9.append(com_df_features)\n",
    "    model9.append(model)\n",
    "    print('Top Words for Community {0}, k = {1}'.format(community, k), '\\n')\n",
    "    print_top_words(model, vocab)\n",
    "    print('\\n')"
   ]
  },
  {
   "cell_type": "code",
   "execution_count": null,
   "metadata": {
    "collapsed": true
   },
   "outputs": [],
   "source": [
    "# Get Com 9 k=8 top tweets\n",
    "top9_8 = get_top_tweet_ids(model9[2], df_features9[2])"
   ]
  },
  {
   "cell_type": "code",
   "execution_count": 174,
   "metadata": {
    "collapsed": false
   },
   "outputs": [
    {
     "name": "stdout",
     "output_type": "stream",
     "text": [
      "+---------------+---------+-----------------------------------------------------------------------------------------------------------------------------------------------+\n",
      "|screen_name    |community|text                                                                                                                                           |\n",
      "+---------------+---------+-----------------------------------------------------------------------------------------------------------------------------------------------+\n",
      "|Tedderman1     |9        |EPA Chief Dipshit Scott Pruitt Says Carbon Dioxide is Not a Primary Contributor to Global Warming  #UniteBlue                                  |\n",
      "|GarethsMom     |9        | - science isnt a conspiracy \n",
      "On climate change, Scott Pruitt contradicts the EPA’s own website\n",
      "                                               |\n",
      "|DaviesNow      |9        |FixIt: New EPA boss Scott refuses to accept scientific concensus on #climatechange #EPA #science                                               |\n",
      "|BooneAmphibLab |9        |Do U have a problem with a science denier as head of EPA ?  Why did U help put him as head of EPA?                                             |\n",
      "|contelapira1   |9        |EPA Chief Scott Pruitt Doesn't Believe Carbon Dioxide Causes Climate Change. Must have PHD in sciences,                                        |\n",
      "|MaureenStanton1|9        |EPA chief Scott \"big oil\" Pruitt says carbon dioxide not primary contributor to global warming                                                 |\n",
      "|Sagacious_O    |9        |EPA chief Scott Pruitt says carbon dioxide is not a primary contributor to global warming                                                      |\n",
      "|ANTITRUMPMVMT  |9        |EPA Chief Scott Pruitt Says Carbon Dioxide Is Not a ‘Primary Contributor’ to Global Warming • #ANTITRUMPMVMT                                   |\n",
      "|ANDYMAISAK44   |9        |EPA is regulated by law to fight CO2 &amp; global warming.  So Trump hires Scott Pruitt &amp; he doesn't even believe in the Science.  Terrific|\n",
      "|Dqueenbay      |9        | - Scott Pruitt, director of EPA, does not believe that carbon dioxide is a primary contributor to climate change. #NotNormal                  |\n",
      "|BridgeProject21|9        |#BREAKING: EPA chief Scott Pruitt says carbon dioxide is not a primary contributor to global warming. He’s wrong.                              |\n",
      "|nickzrn        |9        |EPA Scott Pruitt Doesn't Believe CO2 Causes Climate Change b/c science doesn't know, right asshat?                                             |\n",
      "|SirTomMoore    |9        |Brought to you by   EPA Chief Scott Pruitt: Carbon Dioxide Not a ‘Primary Contributor’ to Global Warming                                       |\n",
      "|zbryant805     |9        |EPA chief Scott Pruitt says carbon dioxide is not a primary contributor to global warming  seriously                                           |\n",
      "|EBertolaccini  |9        |Reuters: JUST IN: EPA chief Scott Pruitt disagrees that CO2 is primary contributor to global warming: report                                   |\n",
      "|carlbotterud   |9        |The head of the EPA? Analysis | EPA chief&amp;#8217;s climate change denial is easily refuted by the EPA&amp;#8217;s website                   |\n",
      "|nathanbellmusic|9        |EPA head Scott Pruitt denies that carbon dioxide causes global warming\n",
      "\n",
      "  This man threatens our workd                                         |\n",
      "|Jinath_Hyder   |9        |EPA head Scott Pruitt : \"CO2 isn't a primary contributor to global warming, all the hot air coming out from Trump's mouth is.\" #ThanksTrump    |\n",
      "|keyocean       |9        |SCOTT PRUITT is ARROGANT FOOL #pollutingpruitt EPA chief: Carbon dioxide not ‘primary contributor’ to global warming                           |\n",
      "|Arthur59611540 |9        | EPA head Scott Pruitt says carbon dioxide is not 'primary contributor' to global warming\n",
      " over                                                |\n",
      "|CoffeeNTrees   |9        |Here we go!  EPA chief Scott Pruitt says carbon dioxide is not a primary contributor to global warming                                         |\n",
      "|Pol_PoTrump    |9        |CARBON DIOXIDE? To hell with Carbon Dioxide. Climate science don't need no stinkin' carbon dioxide.  #Pruitt #TheResistance #EPA               |\n",
      "|IbuPertiwi_    |9        |EPA's Scott Pruitt denies climate change science and angry Americans are flooding him with phone calls - Chicago T…                            |\n",
      "|AlicePotenza   |9        |EPA chief Scott Pruitt says carbon dioxide is not a primary contributor to global warming  #IDIOT #ScottPruit                                  |\n",
      "|luissanapacheco|9        |EPA Chief Says Carbon Isn’t a ‘Primary Contributor’ to Climate Change. Science Says He’s Wrong…                                                |\n",
      "|ldm_dc         |9        |EPA Chief Pruitt doesn't \"believe carbon dioxide is a primary contributor to global warming\"  #SciPolicy                                       |\n",
      "|DaveLovesGod   |9        |#EPA\n",
      "EPA Administrator Speaks Out Against Junk Science – Denies CO2 Is Primary Contributor to ‘Global Warming’! –                              |\n",
      "|nj11forchange  |9        |Pruitt,head of the EPA says he does not believe that carbon dioxide is a major cause of global warming.…                                       |\n",
      "|Marian_NM_gal  |9        |EPA chief Scott Pruitt says carbon dioxide is not a primary contributor to global warming                                                      |\n",
      "|chefjph        |9        |EPA Chief Scott Pruitt Doesn't Believe Carbon Dioxide Causes Climate Change  #CantStopLying                                                    |\n",
      "|Mendacity_Q    |9        |Scott Pruitt, EPA's chief idiot, says carbon dioxide not a primary cause of global warming. Experts are all wrong!                             |\n",
      "|3rdI           |9        |Appalling. \n",
      "#Earth2Trump #EPA #climatechange  #resist \n",
      "\n",
      "EPA chief doubts carbon dioxide's role in global warming -                             |\n",
      "|dennisdesmond19|9        |EPA Director Priutt \"Carbon dioxide is not a primary cause of Climate change\" Pruitt however, is a primary cause of total B.S. !               |\n",
      "|BonnieSalm     |9        |Scott Pruitt is not fit to lead the EPA. To protect our planet you must believe in science and facts! Disgraceful.\n",
      "                            |\n",
      "|IbuPertiwi_    |9        |EPA's Scott Pruitt denies climate change science and angry Americans are flooding him with phone calls - Chicago T…                            |\n",
      "|JAlbogas       |9        | this is just stupid.\n",
      "\n",
      "EPA head Scott Pruitt denies that carbon dioxide causes global warming\n",
      "\n",
      "                                                |\n",
      "|stadtsllc      |9        |Has science deceived us or are we being deceived?Science denier Scott Pruitt Rejects Climate-Change Reality                                    |\n",
      "|Tedderman1     |9        |EPA Chief &amp; #TrumpTard Scott Pruitt Disagrees With Science Another Major Climate Change Issue  #UniteBlue                                  |\n",
      "|GabbyBirkman   |9        |EPA chief Scott Pruitt says carbon dioxide is not a primary contributor to global warming                                                      |\n",
      "|Hemisha360     |9        |God help us \n",
      "⤵\n",
      "EPA chief Scott Pruitt says carbon dioxide is not a primary contributor to global warming                                       |\n",
      "|sdswart        |9        |Because he knows Science?  Or he’s a zealot?  EPA head Scott Pruitt denies  causes global warming | The Guardian                               |\n",
      "|sanders_bot    |9        |Scott Pruitt, the new head of the EPA, does not believe that CO2 is a primary contributor to climate change. Hones…                            |\n",
      "|SteffnWasson   |9        |#trump's #EPA head #ScottPruitt said \"CO2 is not a significant contributor to global warming.\" But ignorance of fundamental science is         |\n",
      "|skepticalraptor|9        |From my blog: Scott Pruitt, climate change denier #EPA chief – wrong about the science                                                         |\n",
      "|Rick_NRW       |9        | \n",
      "Why clean coal, when EPA head Scott Pruitt denies that carbon dioxide causes global warming?\n",
      "\n",
      "#climatechange #co2                            |\n",
      "|DigitalPubLab  |9        |SCIENCE FICTION Scott Pruitt #EPA director—what nightmares will he cause? #writingprompt #amwriting #scifi #science                            |\n",
      "|globalken001   |9        |Insane - EPA head Scott Pruitt denies that carbon dioxide causes global warming  #environment #politics                                        |\n",
      "|Mark4124NH     |9        |EPA chief Scott Pruitt says carbon dioxide is not a primary contributor to global warming -                                                    |\n",
      "|mary_puck8     |9        |EPA chief Scott Pruitt says carbon dioxide is not a primary contributor to global warming                                                      |\n",
      "|pATREUS        |9        |EPA chief Scott Pruitt says carbon dioxide is not a primary contributor to global warming   TRUMPSAYSWRONG.JPG                                 |\n",
      "|evans3_w       |9        |EPA chief Scott Pruitt says carbon dioxide is not a primary contributor to global warming                                                      |\n",
      "|spaceagethinker|9        |EPA Admin(and lawyer)Pruitt  doesn't believe CO2 primary to global warming. EPA no longer to be guided by Science. What could go wrong?        |\n",
      "|newsagg        |9        |EPA chief Scott Pruitt says carbon dioxide is not a primary contributor to global warming                                                      |\n",
      "|PaulPdr1962    |9        |#IAmAClimateChangeDenier because there's science,there's junk science &amp; then there's the Al Gore school of climate change science.         |\n",
      "|bojv87         |9        |EPA chief Scott Pruitt says carbon dioxide is not a primary contributor to global warming                                                      |\n",
      "|KenSpurbeck    |9        |EPA's Scott Pruitt denies climate change science and angry Americans are flooding him with phone.  These guys are idiots                       |\n",
      "|VampirSexKttns |9        |EPA Head Scott Pruitt Says CO2 Doesn’t Cause…  #EarthEnergy #climatechanage #EPA…                                                              |\n",
      "|TonyDAmbrosio8 |9        |EPA chief: Carbon dioxide not 'primary contributor' to climate change   #Pruitt unqualified to head \"EPA                                       |\n",
      "|jasebaughman   |9        |EPA Chief Scott Pruitt Questions Basic Facts About Climate Change #science?                                                                    |\n",
      "|AnybodyOutThar |9        | \n",
      "Climate science to predict snowstorm - wrong\n",
      "\n",
      "Climate science to predict global warming - irrefutable settled science                        |\n",
      "|ParchedPlanet  |9        |EPA Chief Scott Pruitt Doesn't Believe Carbon Dioxide Causes Climate Change                                                                    |\n",
      "|itestpilot     |9        |EPA head Scott Pruitt denies that carbon dioxide causes global warming #alternativefacts #trump #epa #climatechange\n",
      "\n",
      "                          |\n",
      "|HamiltonJacquie|9        |EPA chief Scott Pruitt says carbon dioxide is not a primary contributor to global warming                                                      |\n",
      "|UnRealNateStorm|9        |\n",
      "C02 has NEVER driven our climate\n",
      "#EPA #DNC &amp; #UN pay you to push junk science\n",
      "Pseudo science to bilk #America &amp; #UK\n",
      "#EverChanging     |\n",
      "|JohnRHaigh     |9        |EPA head Scott Pruitt denies that carbon dioxide causes global warming | Environment                                                           |\n",
      "|noblesdw1      |9        | True science does inform fake science like man made global warming indoctrinates. Science observes facts not consensus. Think 😎              |\n",
      "|rbbhall        |9        |EPA chief. So carbon dioxide isn't the main threat to climate change. Um.....where did you get your science degree from? #DrainTheGOP          |\n",
      "|skepticalraptor|9        |Scott Pruitt, climate change denier EPA chief – wrong about the science                                                                        |\n",
      "|MsGrissom      |9        | is a yuge brainiac. #EPA \n",
      ": EPA Chief Scott Pruitt Questions Basic Facts About Climate Change                                                 |\n",
      "|pfrule         |9        |BRAINDEAD EPA chief Scott Pruitt says carbon dioxide is not a primary contributor to global warming                                            |\n",
      "|freedoms_sword |9        |#GOPSOCIOPATH &amp; #ScienceDenier &gt; EPA chief Scott Pruitt disagrees with science on another major climate change issue                    |\n",
      "|BleacherTony   |9        |Fox guarding the henhouse, EPA chief Scott Pruitt, says carbon dioxide not a primary contributor to global warming -                           |\n",
      "|AshPoliceReddy |9        |NIH budget: cut 18%\n",
      "EPA budget: cut 31%\n",
      "\n",
      "'s budget hurts biomedical research and climate science.…                                             |\n",
      "|TonyCowdrey    |9        |EPA chief Scott Pruitt says carbon dioxide is not a primary contributor to global warming   bullshit                                           |\n",
      "|Le_Boulange    |9        |EPA head Scott Pruitt denies that carbon dioxide causes global warming  this guy is either just stupid or ingenuous                            |\n",
      "|useyourcranium |9        |So high up and so so dumb \"EPA Chief Scott Pruitt Questions Basic Facts About Climate Change\"  #science  #feedly                               |\n",
      "|lyric_thompson |9        |EPA chief Scott Pruitt disagrees with science on another major climate change issue  via                                                       |\n",
      "|spaceagethinker|9        | EPA Admin(and lawyer)Pruitt denies CO2 primary to global warming. EPA no longer guided by Science. What could go wrong?                       |\n",
      "|ANTITRUMPMVMT  |9        |EPA Head Scott Pruitt Says Carbon Dioxide Is Not 'Primary Contributor' to Global Warming • #ANTITRUMPMVMT                                      |\n",
      "|RealTimeBrk    |9        |#BreakingNews JUST IN: EPA chief Scott Pruitt disagrees that CO2 is primary contributor to global warming: report                              |\n",
      "|BBNAEnvironment|9        |Is EPA climate science next target after Scott Pruitt downplays warming effects of carbon dioxide? via …                                       |\n",
      "|denrumer       |9        |EPA chief Scott Pruitt says carbon dioxide is not a primary contributor to global warming                                                      |\n",
      "|JAlbogas       |9        | this is just stupid.\n",
      "\n",
      "EPA head Scott Pruitt denies that carbon dioxide causes global warming\n",
      "\n",
      "                                                |\n",
      "|cracka_23      |9        |Just found out that Scott Pruitt (Head of the EPA) has sued the EPA 13 times and is a climate change denier.. This country is a joke.          |\n",
      "|BuffyHippie    |9        |Scott Pruitt doesn't believe in #science or believe in #globalwarming. He removed the word #Science from the . Removed The Word Science.       |\n",
      "|ANTITRUMPMVMT  |9        |EPA Chief Scott Pruitt Says Carbon Dioxide Is Not a Primary Contributor to Global Warming • #ANTITRUMPMVMT                                     |\n",
      "|KTULNews       |9        |EPA Administrator Scott Pruitt does not believe carbon dioxide is the primary cause of global warming                                          |\n",
      "|denis_horan    |9        |EPA chief Scott Pruitt says carbon dioxide is not a primary contributor to global warming 😳🙄                                                 |\n",
      "|BloombergCA    |9        |EPA chief Scott Pruitt says he doesn't believe carbon dioxide is a primary contributor to climate change…                                      |\n",
      "|edanielrusa    |9        | The So called EPA Chief Scott Pruitt says that he does not belief CO2 is the primary contributor to global warming. What an Ass               |\n",
      "|ScienceTopNews |9        |EPA Chief Scott Pruitt: #Carbon dioxide not #Primary cause: ,                                                                                  |\n",
      "|otherppl       |9        |Scott Pruitt, new head of EPA, doesn't believe in climate science. Feel free to call him &amp; let him know what a shit head he is 202-564-4700|\n",
      "|ForOurFutureOH |9        |Pruitt, EPA chief, said that the science is not settled on human caused climate change. He's wrong. #climateaction                             |\n",
      "|mc_tamale      |9        |This is on you  EPA chief Scott Pruitt says carbon dioxide is not a primary contributor to global warming                                      |\n",
      "|get_a_spine    |9        |EPA admin  has NO science bckgrnd but is qualified 2 \n",
      "disagree w/science on major climate change issue                                         |\n",
      "|Conssuck2      |9        |EPA Chief Scott Pruitt Doesn't Believe Carbon Dioxide Causes Climate Change Pruitt #NotAScientist                                              |\n",
      "|spunker78      |9        |EPA Chief Scott Pruitt Doesn't Believe Carbon Dioxide Causes Climate Change  u r a moron                                                       |\n",
      "|beyondpaleo    |9        |EPA chief Scott Pruitt says carbon dioxide is not a primary contributor to global warming                                                      |\n",
      "|SMonroe_Books  |9        |EPA's Scott Pruitt denies climate change science and angry Americans are flooding him w/ phone calls  #dumberthandirt                          |\n",
      "|openupandsay   |9        |\"EPA chief Scott Pruitt says carbon dioxide is not a primary contributor to global warming.\" #climatechange denial!                            |\n",
      "+---------------+---------+-----------------------------------------------------------------------------------------------------------------------------------------------+\n",
      "\n"
     ]
    }
   ],
   "source": [
    "# Best tweets\n",
    "lda_tweets.filter('tweet_id in {0}'.format(tuple(top9_8[1,:100]))).select('screen_name', 'community', 'text') \\\n",
    "                    .show(100, truncate=False)"
   ]
  },
  {
   "cell_type": "code",
   "execution_count": 178,
   "metadata": {
    "collapsed": true
   },
   "outputs": [],
   "source": [
    "# Save best Com 28 models\n",
    "com9_model = model9[2]\n",
    "com9_df = df_features9[2]\n",
    "com9_vocab = vocab9[2]"
   ]
  },
  {
   "cell_type": "code",
   "execution_count": 179,
   "metadata": {
    "collapsed": false
   },
   "outputs": [
    {
     "data": {
      "text/plain": [
       "DenseVector([0.181, 0.1451, 0.0928, 0.1167, 0.0731, 0.075, 0.0886, 0.0757])"
      ]
     },
     "execution_count": 179,
     "metadata": {},
     "output_type": "execute_result"
    }
   ],
   "source": [
    "com9_model.estimatedDocConcentration()"
   ]
  },
  {
   "cell_type": "code",
   "execution_count": 180,
   "metadata": {
    "collapsed": false
   },
   "outputs": [],
   "source": [
    "# Save all model data\n",
    "com9_model.save('./lda_data/com9_lda_model')\n",
    "with open('./lda_data/com9_lda_vocab.pkl', 'wb') as pklfile:\n",
    "    pickle.dump(com9_vocab, pklfile)\n",
    "com9_df.write.parquet('./lda_data/com9_df.parquet')"
   ]
  },
  {
   "cell_type": "markdown",
   "metadata": {},
   "source": [
    "# Save top 100 tweets for all topics and communities to one DF for export"
   ]
  },
  {
   "cell_type": "code",
   "execution_count": 239,
   "metadata": {
    "collapsed": false
   },
   "outputs": [],
   "source": [
    "top_tweet_ids_save = [top10_10, top3_8, top4_8, top2_7, top18_8, top12_8, top28_7, top9_8]\n",
    "n_keep_tweets = 100\n",
    "\n",
    " # Create empty DF to save to\n",
    "top_tweets_df = lda_tweets.filter('tweet_id = \"nonexistent id\"').withColumn('topic', lit(None))\n",
    "\n",
    "for com in top_tweet_ids_save:\n",
    "    for topic_num in range(com.shape[0]):\n",
    "        top_tweets_df = top_tweets_df.unionAll(\n",
    "                                lda_tweets.filter('tweet_id in {0}'.format(tuple(com[topic_num,:n_keep_tweets]))) \\\n",
    "                                    .withColumn('topic', lit(topic_num)) \\\n",
    "                                    .select('screen_name', 'tweet_id', 'name', 'text', 'community', 'topic'))\n",
    "\n",
    "top_tweets_df.persist(StorageLevel.MEMORY_AND_DISK)"
   ]
  },
  {
   "cell_type": "code",
   "execution_count": 244,
   "metadata": {
    "collapsed": false
   },
   "outputs": [
    {
     "name": "stdout",
     "output_type": "stream",
     "text": [
      "+---------------+------------------+-------------------+--------------------+---------+-----+\n",
      "|    screen_name|          tweet_id|               name|                text|community|topic|\n",
      "+---------------+------------------+-------------------+--------------------+---------+-----+\n",
      "|   daphnewysham|836999249405435904|      Daphne Wysham|‘Shell knew’: oil...|       10|    0|\n",
      "|         Q_petr|837028930607583232|        Quercuspetr|‘Shell knew’: oil...|       10|    0|\n",
      "|  science_ooyuz|839009313582641152|       Science News|'Shell Knew': Oil...|       10|    0|\n",
      "|   chinorubeitp|837165600925499392|               Rube|RT : ‘Shell knew’...|       10|    0|\n",
      "| CLIMATECHANGE8|836557843641716740|     CLIMATE CHANGE|'Shell knew': oil...|       10|    0|\n",
      "|    RosalindCPH|837044753162203143|   Rosalind Pearson|‘Shell knew’: oil...|       10|    0|\n",
      "|     AtorElabor|837121530366681089|      Paul Mittwoch|‘Shell knew’: oil...|       10|    0|\n",
      "|   StephenDanna|837004038403055616|       StephenDanna|Wow.Wonder why it...|       10|    0|\n",
      "| CrackpotArtist|838127749097127936|      David Perry Ⓥ|‘Shell knew’: oil...|       10|    0|\n",
      "|  science_ooyuz|837389080031813632|       Science News|'Shell Knew': Oil...|       10|    0|\n",
      "|       roobloo1|837745307983171585|            roobloo|‘Shell knew’: oil...|       10|    0|\n",
      "|       azkaban2|837355698346414082|        Marcie Mock|‘Shell knew’: oil...|       10|    0|\n",
      "|     HarryAudus|837154880401780737|        Harry Audus|‘Shell knew’: oil...|       10|    0|\n",
      "|leftsidestoryUS|837827528471560193|    Left Side Story|'Shell Knew': Oil...|       10|    0|\n",
      "|         elrjay|837082094295793667|       Les Johnston|‘Shell knew’: oil...|       10|    0|\n",
      "|  Abettervision|836997731176468480|Elizabeth Woodworth|‘Shell knew’: oil...|       10|    0|\n",
      "|    NannaHannah|837167663470149632| ResistPersistWitch|Not surprised. Fu...|       10|    0|\n",
      "|  John_G_Cullen|837699745334325248|        John Cullen|‘Shell knew’: oil...|       10|    0|\n",
      "|  matthewshirts|837040800974397440|     matthew shirts|‘Shell knew’: oil...|       10|    0|\n",
      "|      BCISLEMAN|837107584146419712|          Bill Both|‘Shell knew’: oil...|       10|    0|\n",
      "+---------------+------------------+-------------------+--------------------+---------+-----+\n",
      "only showing top 20 rows\n",
      "\n"
     ]
    }
   ],
   "source": [
    "top_tweets_df.show()"
   ]
  },
  {
   "cell_type": "code",
   "execution_count": 245,
   "metadata": {
    "collapsed": true
   },
   "outputs": [],
   "source": [
    "top_tweets_pd = top_tweets_df.toPandas()  "
   ]
  },
  {
   "cell_type": "code",
   "execution_count": 248,
   "metadata": {
    "collapsed": false
   },
   "outputs": [],
   "source": [
    "with open('./lda_data/lda_top_tweets.pkl', 'wb') as pklfile:\n",
    "    pickle.dump(top_tweets_pd, pklfile, protocol=2)"
   ]
  },
  {
   "cell_type": "code",
   "execution_count": null,
   "metadata": {
    "collapsed": true
   },
   "outputs": [],
   "source": []
  }
 ],
 "metadata": {
  "anaconda-cloud": {},
  "kernelspec": {
   "display_name": "Python [conda env:datasci3]",
   "language": "python",
   "name": "conda-env-datasci3-py"
  },
  "language_info": {
   "codemirror_mode": {
    "name": "ipython",
    "version": 3
   },
   "file_extension": ".py",
   "mimetype": "text/x-python",
   "name": "python",
   "nbconvert_exporter": "python",
   "pygments_lexer": "ipython3",
   "version": "3.5.2"
  }
 },
 "nbformat": 4,
 "nbformat_minor": 2
}
